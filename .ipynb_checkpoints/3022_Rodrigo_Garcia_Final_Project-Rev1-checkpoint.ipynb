{
 "cells": [
  {
   "cell_type": "markdown",
   "metadata": {},
   "source": [
    "<H2>Microsoft Malware Prediction</H2>\n",
    "<H3>Final Project:  Rodrigo H. Garcia, August 3rd 2020</H3>"
   ]
  },
  {
   "cell_type": "code",
   "execution_count": null,
   "metadata": {
    "jupyter": {
     "source_hidden": true
    }
   },
   "outputs": [],
   "source": []
  },
  {
   "cell_type": "markdown",
   "metadata": {},
   "source": [
    "<h4>I.) Definitions of Column Fields</h4>"
   ]
  },
  {
   "cell_type": "markdown",
   "metadata": {},
   "source": [
    "<hr>"
   ]
  },
  {
   "cell_type": "markdown",
   "metadata": {},
   "source": [
    "<p><b>MachineIdentifier</b> - Individual machine ID</p>\n",
    "<p><b>ProductName</b> - Defender state information e.g. win8defender</p>\n",
    "<p><b>EngineVersion</b> - Defender state information e.g. 1.1.12603.0</p>\n",
    "<p><b>AppVersion</b>- Defender state information e.g. 4.9.10586.0</p>\n",
    "<p><b>AvSigVersion</b> - Defender state information e.g. 1.217.1014.0</p>\n",
    "<p><b>IsBeta</b> - Defender state information e.g. false</p>\n",
    "<p><b>RtpStateBitfield</b> - NA</p>\n",
    "<p><b>IsSxsPassiveMode</b> - NA</p>\n",
    "<p><b>DefaultBrowsersIdentifier</b> - ID for the machine's default browser</p>\n",
    "<p><b>VProductStatesIdentifier</b> - ID for the specific configuration of a user's antivirus software</p>\n",
    "<p><b>AVProductsInstalled</b> - NA (Are Anti-Virus products installed?)</p>\n",
    "<p><b>AVProductsEnabled</b> - NA (Are Anit Viruse Products enabled?)</p>\n",
    "\n",
    "<p><b>HasTpm</b> - True if machine has tpm (Trusted Platform Module is a special security standard which describes a hardware chip embedded in your PC's motherboard. When a Trusted Platform Module is present in a device, it allows to secure cryptographic operations like generation of cryptographic keys or secure device authentication.)</p>\n",
    "\n",
    "\n",
    "<p><b>CountryIdentifier</b> - ID for the country the machine is located in</p>\n",
    "<p><b>cityIdentifier</b> - ID for the city the machine is located in<p>\n",
    "<p><b>OrganizationIdentifier</b> - ID for the organization the machine belongs in, organization ID is mapped to both specific companies and broad industries</p>\n",
    "<p><b>GeoNameIdentifier</b> - ID for the geographic region a machine is located in</p>\n",
    "<p><b>LocaleEnglishNameIdentifier</b> - English name of Locale ID of the current user</p>\n",
    "<p><b>Platform</b> - Calculates platform name (of OS related properties and processor property)</p>\n",
    "<p><b>Processor</b> - This is the process architecture of the installed operating system\n",
    "<p><b>OsVer</b> - Version of the current operating system\n",
    "<p><b>OsBuild</b> - Build of the current operating system\n",
    "<p><b>OsSuite</b> - Product suite mask for the current operating system.\n",
    "<p><b>OsPlatformSubRelease</b> - Returns the OS Platform sub-release (Windows Vista, Windows 7, Windows 8, TH1, TH2)\n",
    "<p><b>OsBuildLab</b> - Build lab that generated the current OS. Example: 9600.17630.amd64fre.winblue_r7.150109-2022\n",
    "\n",
    "<p><b>SkuEdition</b>- The goal of this feature is to use the Product Type defined in the MSDN to map to a 'SKU-Edition' name that is useful in population reporting. The valid Product Type are defined in %sdxroot%\\data\\windowseditions.xml. This API has been used since Vista and Server 2008, so there are many Product Types that do not apply to Windows 10. The 'SKU-Edition' is a string value that is in one of three classes of results. The design must hand each class.\n",
    "IsProtected - This is a calculated field derived from the Spynet Report's AV Products field. Returns: a. TRUE if there is at least one active and up-to-date antivirus product running on this machine. b. FALSE if there is no active AV product on this machine, or if the AV is active, but is not receiving the latest updates. c. null if there are no Anti Virus Products in the report. Returns: Whether a machine is protected.</p>\n",
    "\n",
    "<p><b>AutoSampleOptIn</b> - This is the SubmitSamplesConsent value passed in from the service, available on CAMP 9+</p>\n",
    "<p><b>PuaMode</b> - Pua Enabled mode from the service</p>\n",
    "\n",
    "<p><b>SMode</b>- This field is set to true when the device is known to be in 'S Mode', as in, Windows 10 S mode, where only Microsoft Store apps can be installed</p>\n",
    "\n",
    "<p><b>IeVerIdentifier</b> - NA</p>\n",
    "\n",
    "<p><b>SmartScreen</b> - This is the SmartScreen enabled string value from registry. This is obtained by checking in order, HKLM\\SOFTWARE\\Policies\\Microsoft\\Windows\\System\\SmartScreenEnabled and HKLM\\SOFTWARE\\Microsoft\\Windows\\CurrentVersion\\Explorer\\SmartScreenEnabled. If the value exists but is blank, the value \"ExistsNotSet\" is sent in telemetry.</p>\n",
    "\n",
    "<p><b>Firewall</b> - This attribute is true (1) for Windows 8.1 and above if windows firewall is enabled, as reported by the service.</p>\n",
    "\n",
    "<p><b>UacLuaenable</b> - This attribute reports whether or not the \"administrator in Admin Approval Mode\" user type is disabled or enabled in UAC. The value reported is obtained by reading the regkey HKLM\\SOFTWARE\\Microsoft\\Windows\\CurrentVersion\\Policies\\System\\EnableLUA.</p>\n",
    "\n",
    "<p><b>Census_MDC2FormFactor</b> - A grouping based on a combination of Device Census level hardware characteristics. The logic used to define Form Factor is rooted in business and industry standards and aligns with how people think about their device. (Examples: Smartphone, Small Tablet, All in One, Convertible...)</p>\n",
    "\n",
    "<p><b>Census_DeviceFamily</b> - AKA DeviceClass. Indicates the type of device that an edition of the OS is intended for. Example values: Windows.Desktop, Windows.Mobile, and iOS.Phone</p>\n",
    "\n",
    "<p><b>Census_OEMNameIdentifier</b> - NA</p>\n",
    "<p><b>Census_OEMModelIdentifier</b> - NA</p>\n",
    "<p><b>Census_ProcessorCoreCount</b> - Number of logical cores in the processor</p>\n",
    "<p><b>Census_ProcessorManufacturerIdentifier</b> - NA</p>\n",
    "<p><b>Census_ProcessorModelIdentifier</b> - NA</p>\n",
    "<p><b>Census_ProcessorClass</b> - A classification of processors into high/medium/low. Initially used for Pricing Level SKU. No longer maintained and updated</p>\n",
    "<p><b>Census_PrimaryDiskTotalCapacity</b> - Amount of disk space on primary disk of the machine in MB</p>\n",
    "<p><b>Census_PrimaryDiskTypeName</b> - Friendly name of Primary Disk Type - HDD or SSD</p>\n",
    "<p><b>Census_SystemVolumeTotalCapacity</b> - The size of the partition that the System volume is installed on in MB</p>\n",
    "<p><b>Census_HasOpticalDiskDrive</b> - True indicates that the machine has an optical disk drive (CD/DVD)</p>\n",
    "<p><b>Census_TotalPhysicalRAM</b> - Retrieves the physical RAM in MB</p>\n",
    "<p><b>Census_ChassisTypeName</b> - Retrieves a numeric representation of what type of chassis the machine has. A value of 0 means xx</p>\n",
    "<p><b>Census_InternalPrimaryDiagonalDisplaySizeInInches</b> - Retrieves the physical diagonal length in inches of the primary display</p>\n",
    "<p><b>Census_InternalPrimaryDisplayResolutionHorizontal</b> - Retrieves the number of pixels in the horizontal direction of the internal display.</p>\n",
    "<p><b>Census_InternalPrimaryDisplayResolutionVertical</b> - Retrieves the number of pixels in the vertical direction of the internal display</p>\n",
    "<p><b>Census_PowerPlatformRoleName</b> - Indicates the OEM preferred power management profile. This value helps identify the basic form factor of the device</p>\n",
    "<p><b>Census_InternalBatteryType</b> - NA</p>\n",
    "<p><b>Census_InternalBatteryNumberOfCharges</b> - NA</p>\n",
    "<p><b>Census_OSVersion</b> - Numeric OS version Example - 10.0.10130.0</p>\n",
    "<p><b>Census_OSArchitecture</b> - Architecture on which the OS is based. Derived from OSVersionFull. Example - amd64</p>\n",
    "\n",
    "<p><b>Census_OSBranch</b> - Branch of the OS extracted from the OsVersionFull. Example - OsBranch = fbl_partner_eeap where OsVersion = 6.4.9813.0.amd64fre.fbl_partner_eeap.140810-0005</p>\n",
    "\n",
    "<p><b>Census_OSBuildNumber</b> - OS Build number extracted from the OsVersionFull. Example - OsBuildNumber = 10512 or 10240</p>\n",
    "<p><b>Census_OSBuildRevision</b> - OS Build revision extracted from the OsVersionFull. Example - OsBuildRevision = 1000 or 16458</p>\n",
    "\n",
    "<p><b>Census_OSEdition</b> - Edition of the current OS. Sourced from HKLM\\Software\\Microsoft\\Windows NT\\CurrentVersion@EditionID in registry. Example: Enterprise</p>\n",
    "\n",
    "<p><b>Census_OSSkuName</b> - OS edition friendly name (currently Windows only)</p>\n",
    "<p><b>Census_OSInstallTypeName</b> - Friendly description of what install was used on the machine i.e. clean</p>\n",
    "<p><b>Census_OSInstallLanguageIdentifier</b> - NA</p>\n",
    "<p><b>Census_OSUILocaleIdentifier</b> - NA</p>\n",
    "<p><b>Census_OSWUAutoUpdateOptionsName</b> - Friendly name of the WindowsUpdate auto-update settings on the machine.</p>\n",
    "<p><b>Census_IsPortableOperatingSystem</b> - Indicates whether OS is booted up and running via Windows-To-Go on a USB stick.</p>\n",
    "<p><b>Census_GenuineStateName</b> - Friendly name of OSGenuineStateID. 0 = Genuine</p>\n",
    "<p><b>Census_ActivationChannel</b> - Retail license key or Volume license key for a machine.</p>\n",
    "<p><b>Census_IsFlightingInternal</b> - NA</p>\n",
    "<p><b>Census_IsFlightsDisabled</b> - Indicates if the machine is participating in flighting.</p>\n",
    "\n",
    "<p><b>Census_FlightRing</b> - The ring that the device user would like to receive flights for. This might be different from the ring of the OS which is currently installed if the user changes the ring after getting a flight from a different ring.</p>\n",
    "\n",
    "<p><b>Census_ThresholdOptIn</b> - NA</p>\n",
    "<p><b>Census_FirmwareManufacturerIdentifier</b> - NA</p>\n",
    "<p><b>Census_FirmwareVersionIdentifier</b> - NA</p>\n",
    "<p><b>Census_IsSecureBootEnabled</b> - Indicates if Secure Boot mode is enabled.</p>\n",
    "<p><b>Census_IsWIMBootEnabled</b> - NA</p>\n",
    "<p><b>Census_IsVirtualDevice</b> - Identifies a Virtual Machine (machine learning model)</p>\n",
    "<p><b>Census_IsTouchEnabled</b> - Is this a touch device ?</p>\n",
    "<p><b>Census_IsPenCapable</b> - Is the device capable of pen input ? </p>\n",
    "<p><b>Census_IsAlwaysOnAlwaysConnectedCapable</b> - Retreives information about whether the battery enables the device to be AlwaysOnAlwaysConnected .</p>\n",
    "<p><b>Wdft_IsGamer</b> - Indicates whether the device is a gamer device or not based on its hardware combination.</p>\n",
    "<p><b>Wdft_RegionIdentifier</b> - NA</p>"
   ]
  },
  {
   "cell_type": "markdown",
   "metadata": {},
   "source": [
    "<hr>"
   ]
  },
  {
   "cell_type": "code",
   "execution_count": null,
   "metadata": {
    "jupyter": {
     "source_hidden": true
    }
   },
   "outputs": [],
   "source": []
  },
  {
   "cell_type": "markdown",
   "metadata": {},
   "source": [
    "<h4>II.) Data Overview and Description</h4>"
   ]
  },
  {
   "cell_type": "markdown",
   "metadata": {},
   "source": [
    "<hr>"
   ]
  },
  {
   "cell_type": "markdown",
   "metadata": {},
   "source": [
    "<p>The data presented for this project is part of the 2019  Microsoft Malware Prediction challenge.  The purpose of the 2019 challenge (and this data) was (and continues to be) the development of new predictive techniques and tools to determine if a machine (computer) will be hit with malware</p>\n",
    "\n",
    "<p>The supplied data from the kaggle challenge contains 3 file.\n",
    "    <ul>\n",
    "        <li>sample_submission.csv</li>\n",
    "        <li>test.csv</li>\n",
    "        <li>train.csv</li>\n",
    "    </ul>\n",
    "</p>\n",
    "\n",
    "<p>The train.csv file contains the training data which will be used to train the malware prediction model, while the test.csv contains another set of data to  test the accuracy of the training model generated with the training data.  The train.csv file contains 83 columns of data  such as \"Machine Identifier\" all the way to wdft_IsGamer (whether a device is a gaming device).  The large crossection of data will be useful in developing the predicition model for this project</p>"
   ]
  },
  {
   "cell_type": "code",
   "execution_count": null,
   "metadata": {
    "jupyter": {
     "source_hidden": true
    }
   },
   "outputs": [],
   "source": []
  },
  {
   "cell_type": "markdown",
   "metadata": {},
   "source": [
    "<h4>III.) Initial Visualization</h4>"
   ]
  },
  {
   "cell_type": "markdown",
   "metadata": {},
   "source": [
    "<hr>"
   ]
  },
  {
   "cell_type": "code",
   "execution_count": 43,
   "metadata": {},
   "outputs": [],
   "source": [
    "%matplotlib inline\n",
    "import numpy as np\n",
    "import scipy as sp\n",
    "import scipy.stats as stats\n",
    "import pandas as pd\n",
    "import matplotlib.pyplot as plt\n",
    "import seaborn as sns; sns.set()\n",
    "import patsy\n",
    "import sklearn\n",
    "from sklearn.discriminant_analysis import LinearDiscriminantAnalysis\n",
    "from sklearn.discriminant_analysis import QuadraticDiscriminantAnalysis\n",
    "import sklearn.model_selection\n",
    "import sklearn.neighbors\n",
    "import time\n",
    "import random\n",
    "import tensorflow as tf\n",
    "import time"
   ]
  },
  {
   "cell_type": "code",
   "execution_count": 2,
   "metadata": {
    "jupyter": {
     "source_hidden": true
    }
   },
   "outputs": [],
   "source": [
    "#panda_malware_training_data = pd.read_csv('../train.csv', skiprows=lambda x: (x != 0) and not x % 50)\n",
    "panda_malware_training_data = pd.read_csv('../train.csv',\n",
    "        dtype={\n",
    "        'MachineIdentifier':                                    'object',\n",
    "        'ProductName':                                          'object',\n",
    "        'EngineVersion':                                        'object',\n",
    "        'AppVersion':                                           'object',\n",
    "        'AvSigVersion':                                         'object',\n",
    "        'IsBeta':                                               'int8',\n",
    "        'RtpStateBitfield':                                     'float16',\n",
    "        'IsSxsPassiveMode':                                     'int8',\n",
    "        'DefaultBrowsersIdentifier':                            'float16',\n",
    "        'AVProductStatesIdentifier':                            'float32',\n",
    "        'AVProductsInstalled':                                  'float16',\n",
    "        'AVProductsEnabled':                                    'float16',\n",
    "        'HasTpm':                                               'int8',\n",
    "        'CountryIdentifier':                                    'int16',\n",
    "        'CityIdentifier':                                       'float32',\n",
    "        'OrganizationIdentifier':                               'float16',\n",
    "        'GeoNameIdentifier':                                    'float16',\n",
    "        'LocaleEnglishNameIdentifier':                          'int8',\n",
    "        'Platform':                                             'object',\n",
    "        'Processor':                                            'object',\n",
    "        'OsVer':                                                'object',\n",
    "        'OsBuild':                                              'int16',\n",
    "        'OsSuite':                                              'int16',\n",
    "        'OsPlatformSubRelease':                                 'object',\n",
    "        'OsBuildLab':                                           'object',\n",
    "        'SkuEdition':                                           'object',\n",
    "        'IsProtected':                                          'float16',\n",
    "        'AutoSampleOptIn':                                      'int8',\n",
    "        'PuaMode':                                              'object',\n",
    "        'SMode':                                                'float16',\n",
    "        'IeVerIdentifier':                                      'float16',\n",
    "        'SmartScreen':                                          'object',\n",
    "        'Firewall':                                             'float16',\n",
    "        'UacLuaenable':                                         'float32',\n",
    "        'Census_MDC2FormFactor':                                'object',\n",
    "        'Census_DeviceFamily':                                  'object',\n",
    "        'Census_OEMNameIdentifier':                             'float16',\n",
    "        'Census_OEMModelIdentifier':                            'float32',\n",
    "        'Census_ProcessorCoreCount':                            'float16',\n",
    "        'Census_ProcessorManufacturerIdentifier':               'float16',\n",
    "        'Census_ProcessorModelIdentifier':                      'float16',\n",
    "        'Census_ProcessorClass':                                'object',\n",
    "        'Census_PrimaryDiskTotalCapacity':                      'float32',\n",
    "        'Census_PrimaryDiskTypeName':                           'object',\n",
    "        'Census_SystemVolumeTotalCapacity':                     'float32',\n",
    "        'Census_HasOpticalDiskDrive':                           'int8',\n",
    "        'Census_TotalPhysicalRAM':                              'float32',\n",
    "        'Census_ChassisTypeName':                               'object',\n",
    "        'Census_InternalPrimaryDiagonalDisplaySizeInInches':    'float16',\n",
    "        'Census_InternalPrimaryDisplayResolutionHorizontal':    'float16',\n",
    "        'Census_InternalPrimaryDisplayResolutionVertical':      'float16',\n",
    "        'Census_PowerPlatformRoleName':                         'object',\n",
    "        'Census_InternalBatteryType':                           'object',\n",
    "        'Census_InternalBatteryNumberOfCharges':                'float32',\n",
    "        'Census_OSVersion':                                     'object',\n",
    "        'Census_OSArchitecture':                                'object',\n",
    "        'Census_OSBranch':                                      'object',\n",
    "        'Census_OSBuildNumber':                                 'int16',\n",
    "        'Census_OSBuildRevision':                               'int32',\n",
    "        'Census_OSEdition':                                     'object',\n",
    "        'Census_OSSkuName':                                     'object',\n",
    "        'Census_OSInstallTypeName':                             'object',\n",
    "        'Census_OSInstallLanguageIdentifier':                   'float16',\n",
    "        'Census_OSUILocaleIdentifier':                          'int16',\n",
    "        'Census_OSWUAutoUpdateOptionsName':                     'object',\n",
    "        'Census_IsPortableOperatingSystem':                     'int8',\n",
    "        'Census_GenuineStateName':                              'object',\n",
    "        'Census_ActivationChannel':                             'object',\n",
    "        'Census_IsFlightingInternal':                           'float16',\n",
    "        'Census_IsFlightsDisabled':                             'float16',\n",
    "        'Census_FlightRing':                                    'object',\n",
    "        'Census_ThresholdOptIn':                                'float16',\n",
    "        'Census_FirmwareManufacturerIdentifier':                'float16',\n",
    "        'Census_FirmwareVersionIdentifier':                     'float32',\n",
    "        'Census_IsSecureBootEnabled':                           'int8',\n",
    "        'Census_IsWIMBootEnabled':                              'float16',\n",
    "        'Census_IsVirtualDevice':                               'float16',\n",
    "        'Census_IsTouchEnabled':                                'int8',\n",
    "        'Census_IsPenCapable':                                  'int8',\n",
    "        'Census_IsAlwaysOnAlwaysConnectedCapable':              'float16',\n",
    "        'Wdft_IsGamer':                                         'float16',\n",
    "        'Wdft_RegionIdentifier':                                'float16',\n",
    "        'HasDetections':                                        'int8'\n",
    "                                                })"
   ]
  },
  {
   "cell_type": "code",
   "execution_count": 3,
   "metadata": {
    "jupyter": {
     "source_hidden": true
    }
   },
   "outputs": [],
   "source": [
    "#panda_malware_testing_data = pd.read_csv('../test.csv', skiprows=lambda x: (x != 0) and not x % 50)\n",
    "panda_malware_testing_data = pd.read_csv('../test.csv', \n",
    "         dtype={\n",
    "        'MachineIdentifier':                                    'object',\n",
    "        'ProductName':                                          'object',\n",
    "        'EngineVersion':                                        'object',\n",
    "        'AppVersion':                                           'object',\n",
    "        'AvSigVersion':                                         'object',\n",
    "        'IsBeta':                                               'int8',\n",
    "        'RtpStateBitfield':                                     'float16',\n",
    "        'IsSxsPassiveMode':                                     'int8',\n",
    "        'DefaultBrowsersIdentifier':                            'float16',\n",
    "        'AVProductStatesIdentifier':                            'float32',\n",
    "        'AVProductsInstalled':                                  'float16',\n",
    "        'AVProductsEnabled':                                    'float16',\n",
    "        'HasTpm':                                               'int8',\n",
    "        'CountryIdentifier':                                    'int16',\n",
    "        'CityIdentifier':                                       'float32',\n",
    "        'OrganizationIdentifier':                               'float16',\n",
    "        'GeoNameIdentifier':                                    'float16',\n",
    "        'LocaleEnglishNameIdentifier':                          'int8',\n",
    "        'Platform':                                             'object',\n",
    "        'Processor':                                            'object',\n",
    "        'OsVer':                                                'object',\n",
    "        'OsBuild':                                              'int16',\n",
    "        'OsSuite':                                              'int16',\n",
    "        'OsPlatformSubRelease':                                 'object',\n",
    "        'OsBuildLab':                                           'object',\n",
    "        'SkuEdition':                                           'object',\n",
    "        'IsProtected':                                          'float16',\n",
    "        'AutoSampleOptIn':                                      'int8',\n",
    "        'PuaMode':                                              'object',\n",
    "        'SMode':                                                'float16',\n",
    "        'IeVerIdentifier':                                      'float16',\n",
    "        'SmartScreen':                                          'object',\n",
    "        'Firewall':                                             'float16',\n",
    "        'UacLuaenable':                                         'float32',\n",
    "        'Census_MDC2FormFactor':                                'object',\n",
    "        'Census_DeviceFamily':                                  'object',\n",
    "        'Census_OEMNameIdentifier':                             'float16',\n",
    "        'Census_OEMModelIdentifier':                            'float32',\n",
    "        'Census_ProcessorCoreCount':                            'float16',\n",
    "        'Census_ProcessorManufacturerIdentifier':               'float16',\n",
    "        'Census_ProcessorModelIdentifier':                      'float16',\n",
    "        'Census_ProcessorClass':                                'object',\n",
    "        'Census_PrimaryDiskTotalCapacity':                      'float32',\n",
    "        'Census_PrimaryDiskTypeName':                           'object',\n",
    "        'Census_SystemVolumeTotalCapacity':                     'float32',\n",
    "        'Census_HasOpticalDiskDrive':                           'int8',\n",
    "        'Census_TotalPhysicalRAM':                              'float32',\n",
    "        'Census_ChassisTypeName':                               'object',\n",
    "        'Census_InternalPrimaryDiagonalDisplaySizeInInches':    'float16',\n",
    "        'Census_InternalPrimaryDisplayResolutionHorizontal':    'float16',\n",
    "        'Census_InternalPrimaryDisplayResolutionVertical':      'float16',\n",
    "        'Census_PowerPlatformRoleName':                         'object',\n",
    "        'Census_InternalBatteryType':                           'object',\n",
    "        'Census_InternalBatteryNumberOfCharges':                'float32',\n",
    "        'Census_OSVersion':                                     'object',\n",
    "        'Census_OSArchitecture':                                'object',\n",
    "        'Census_OSBranch':                                      'object',\n",
    "        'Census_OSBuildNumber':                                 'int16',\n",
    "        'Census_OSBuildRevision':                               'int32',\n",
    "        'Census_OSEdition':                                     'object',\n",
    "        'Census_OSSkuName':                                     'object',\n",
    "        'Census_OSInstallTypeName':                             'object',\n",
    "        'Census_OSInstallLanguageIdentifier':                   'float16',\n",
    "        'Census_OSUILocaleIdentifier':                          'int16',\n",
    "        'Census_OSWUAutoUpdateOptionsName':                     'object',\n",
    "        'Census_IsPortableOperatingSystem':                     'int8',\n",
    "        'Census_GenuineStateName':                              'object',\n",
    "        'Census_ActivationChannel':                             'object',\n",
    "        'Census_IsFlightingInternal':                           'float16',\n",
    "        'Census_IsFlightsDisabled':                             'float16',\n",
    "        'Census_FlightRing':                                    'object',\n",
    "        'Census_ThresholdOptIn':                                'float16',\n",
    "        'Census_FirmwareManufacturerIdentifier':                'float16',\n",
    "        'Census_FirmwareVersionIdentifier':                     'float32',\n",
    "        'Census_IsSecureBootEnabled':                           'int8',\n",
    "        'Census_IsWIMBootEnabled':                              'float16',\n",
    "        'Census_IsVirtualDevice':                               'float16',\n",
    "        'Census_IsTouchEnabled':                                'int8',\n",
    "        'Census_IsPenCapable':                                  'int8',\n",
    "        'Census_IsAlwaysOnAlwaysConnectedCapable':              'float16',\n",
    "        'Wdft_IsGamer':                                         'float16',\n",
    "        'Wdft_RegionIdentifier':                                'float16',\n",
    "        'HasDetections':                                        'int8'\n",
    "                                                })"
   ]
  },
  {
   "cell_type": "markdown",
   "metadata": {},
   "source": []
  },
  {
   "cell_type": "code",
   "execution_count": 4,
   "metadata": {},
   "outputs": [
    {
     "name": "stdout",
     "output_type": "stream",
     "text": [
      "Training data has the following shape: (8921483, 83) \n",
      "Testing data has the following shape: (7853253, 82) \n"
     ]
    }
   ],
   "source": [
    "print(\"Training data has the following shape: {0} \".format(panda_malware_training_data.shape))\n",
    "print(\"Testing data has the following shape: {0} \".format(panda_malware_testing_data.shape))"
   ]
  },
  {
   "cell_type": "markdown",
   "metadata": {},
   "source": [
    "<p>A quick look at some of the data can be done by using the <span style=\"background-color:#666666; color: white; padding-left:10px; padding-right:10px; border-radius:5px;\">\"panda_malware_training_data.head(rows)\"</span> function</p>"
   ]
  },
  {
   "cell_type": "code",
   "execution_count": 5,
   "metadata": {},
   "outputs": [
    {
     "name": "stdout",
     "output_type": "stream",
     "text": [
      "Training Data Snapshot\n"
     ]
    },
    {
     "data": {
      "text/html": [
       "<div>\n",
       "<style scoped>\n",
       "    .dataframe tbody tr th:only-of-type {\n",
       "        vertical-align: middle;\n",
       "    }\n",
       "\n",
       "    .dataframe tbody tr th {\n",
       "        vertical-align: top;\n",
       "    }\n",
       "\n",
       "    .dataframe thead th {\n",
       "        text-align: right;\n",
       "    }\n",
       "</style>\n",
       "<table border=\"1\" class=\"dataframe\">\n",
       "  <thead>\n",
       "    <tr style=\"text-align: right;\">\n",
       "      <th></th>\n",
       "      <th>MachineIdentifier</th>\n",
       "      <th>ProductName</th>\n",
       "      <th>EngineVersion</th>\n",
       "      <th>AppVersion</th>\n",
       "      <th>AvSigVersion</th>\n",
       "      <th>IsBeta</th>\n",
       "      <th>RtpStateBitfield</th>\n",
       "      <th>IsSxsPassiveMode</th>\n",
       "      <th>DefaultBrowsersIdentifier</th>\n",
       "      <th>AVProductStatesIdentifier</th>\n",
       "      <th>...</th>\n",
       "      <th>Census_FirmwareVersionIdentifier</th>\n",
       "      <th>Census_IsSecureBootEnabled</th>\n",
       "      <th>Census_IsWIMBootEnabled</th>\n",
       "      <th>Census_IsVirtualDevice</th>\n",
       "      <th>Census_IsTouchEnabled</th>\n",
       "      <th>Census_IsPenCapable</th>\n",
       "      <th>Census_IsAlwaysOnAlwaysConnectedCapable</th>\n",
       "      <th>Wdft_IsGamer</th>\n",
       "      <th>Wdft_RegionIdentifier</th>\n",
       "      <th>HasDetections</th>\n",
       "    </tr>\n",
       "  </thead>\n",
       "  <tbody>\n",
       "    <tr>\n",
       "      <th>0</th>\n",
       "      <td>0000028988387b115f69f31a3bf04f09</td>\n",
       "      <td>win8defender</td>\n",
       "      <td>1.1.15100.1</td>\n",
       "      <td>4.18.1807.18075</td>\n",
       "      <td>1.273.1735.0</td>\n",
       "      <td>0</td>\n",
       "      <td>7.0</td>\n",
       "      <td>0</td>\n",
       "      <td>NaN</td>\n",
       "      <td>53447.0</td>\n",
       "      <td>...</td>\n",
       "      <td>36144.0</td>\n",
       "      <td>0</td>\n",
       "      <td>NaN</td>\n",
       "      <td>0.0</td>\n",
       "      <td>0</td>\n",
       "      <td>0</td>\n",
       "      <td>0.0</td>\n",
       "      <td>0.0</td>\n",
       "      <td>10.0</td>\n",
       "      <td>0</td>\n",
       "    </tr>\n",
       "    <tr>\n",
       "      <th>1</th>\n",
       "      <td>000007535c3f730efa9ea0b7ef1bd645</td>\n",
       "      <td>win8defender</td>\n",
       "      <td>1.1.14600.4</td>\n",
       "      <td>4.13.17134.1</td>\n",
       "      <td>1.263.48.0</td>\n",
       "      <td>0</td>\n",
       "      <td>7.0</td>\n",
       "      <td>0</td>\n",
       "      <td>NaN</td>\n",
       "      <td>53447.0</td>\n",
       "      <td>...</td>\n",
       "      <td>57858.0</td>\n",
       "      <td>0</td>\n",
       "      <td>NaN</td>\n",
       "      <td>0.0</td>\n",
       "      <td>0</td>\n",
       "      <td>0</td>\n",
       "      <td>0.0</td>\n",
       "      <td>0.0</td>\n",
       "      <td>8.0</td>\n",
       "      <td>0</td>\n",
       "    </tr>\n",
       "    <tr>\n",
       "      <th>2</th>\n",
       "      <td>000007905a28d863f6d0d597892cd692</td>\n",
       "      <td>win8defender</td>\n",
       "      <td>1.1.15100.1</td>\n",
       "      <td>4.18.1807.18075</td>\n",
       "      <td>1.273.1341.0</td>\n",
       "      <td>0</td>\n",
       "      <td>7.0</td>\n",
       "      <td>0</td>\n",
       "      <td>NaN</td>\n",
       "      <td>53447.0</td>\n",
       "      <td>...</td>\n",
       "      <td>52682.0</td>\n",
       "      <td>0</td>\n",
       "      <td>NaN</td>\n",
       "      <td>0.0</td>\n",
       "      <td>0</td>\n",
       "      <td>0</td>\n",
       "      <td>0.0</td>\n",
       "      <td>0.0</td>\n",
       "      <td>3.0</td>\n",
       "      <td>0</td>\n",
       "    </tr>\n",
       "    <tr>\n",
       "      <th>3</th>\n",
       "      <td>00000b11598a75ea8ba1beea8459149f</td>\n",
       "      <td>win8defender</td>\n",
       "      <td>1.1.15100.1</td>\n",
       "      <td>4.18.1807.18075</td>\n",
       "      <td>1.273.1527.0</td>\n",
       "      <td>0</td>\n",
       "      <td>7.0</td>\n",
       "      <td>0</td>\n",
       "      <td>NaN</td>\n",
       "      <td>53447.0</td>\n",
       "      <td>...</td>\n",
       "      <td>20050.0</td>\n",
       "      <td>0</td>\n",
       "      <td>NaN</td>\n",
       "      <td>0.0</td>\n",
       "      <td>0</td>\n",
       "      <td>0</td>\n",
       "      <td>0.0</td>\n",
       "      <td>0.0</td>\n",
       "      <td>3.0</td>\n",
       "      <td>1</td>\n",
       "    </tr>\n",
       "    <tr>\n",
       "      <th>4</th>\n",
       "      <td>000014a5f00daa18e76b81417eeb99fc</td>\n",
       "      <td>win8defender</td>\n",
       "      <td>1.1.15100.1</td>\n",
       "      <td>4.18.1807.18075</td>\n",
       "      <td>1.273.1379.0</td>\n",
       "      <td>0</td>\n",
       "      <td>7.0</td>\n",
       "      <td>0</td>\n",
       "      <td>NaN</td>\n",
       "      <td>53447.0</td>\n",
       "      <td>...</td>\n",
       "      <td>19844.0</td>\n",
       "      <td>0</td>\n",
       "      <td>0.0</td>\n",
       "      <td>0.0</td>\n",
       "      <td>0</td>\n",
       "      <td>0</td>\n",
       "      <td>0.0</td>\n",
       "      <td>0.0</td>\n",
       "      <td>1.0</td>\n",
       "      <td>1</td>\n",
       "    </tr>\n",
       "  </tbody>\n",
       "</table>\n",
       "<p>5 rows × 83 columns</p>\n",
       "</div>"
      ],
      "text/plain": [
       "                  MachineIdentifier   ProductName EngineVersion  \\\n",
       "0  0000028988387b115f69f31a3bf04f09  win8defender   1.1.15100.1   \n",
       "1  000007535c3f730efa9ea0b7ef1bd645  win8defender   1.1.14600.4   \n",
       "2  000007905a28d863f6d0d597892cd692  win8defender   1.1.15100.1   \n",
       "3  00000b11598a75ea8ba1beea8459149f  win8defender   1.1.15100.1   \n",
       "4  000014a5f00daa18e76b81417eeb99fc  win8defender   1.1.15100.1   \n",
       "\n",
       "        AppVersion  AvSigVersion  IsBeta  RtpStateBitfield  IsSxsPassiveMode  \\\n",
       "0  4.18.1807.18075  1.273.1735.0       0               7.0                 0   \n",
       "1     4.13.17134.1    1.263.48.0       0               7.0                 0   \n",
       "2  4.18.1807.18075  1.273.1341.0       0               7.0                 0   \n",
       "3  4.18.1807.18075  1.273.1527.0       0               7.0                 0   \n",
       "4  4.18.1807.18075  1.273.1379.0       0               7.0                 0   \n",
       "\n",
       "   DefaultBrowsersIdentifier  AVProductStatesIdentifier  ...  \\\n",
       "0                        NaN                    53447.0  ...   \n",
       "1                        NaN                    53447.0  ...   \n",
       "2                        NaN                    53447.0  ...   \n",
       "3                        NaN                    53447.0  ...   \n",
       "4                        NaN                    53447.0  ...   \n",
       "\n",
       "   Census_FirmwareVersionIdentifier  Census_IsSecureBootEnabled  \\\n",
       "0                           36144.0                           0   \n",
       "1                           57858.0                           0   \n",
       "2                           52682.0                           0   \n",
       "3                           20050.0                           0   \n",
       "4                           19844.0                           0   \n",
       "\n",
       "   Census_IsWIMBootEnabled  Census_IsVirtualDevice  Census_IsTouchEnabled  \\\n",
       "0                      NaN                     0.0                      0   \n",
       "1                      NaN                     0.0                      0   \n",
       "2                      NaN                     0.0                      0   \n",
       "3                      NaN                     0.0                      0   \n",
       "4                      0.0                     0.0                      0   \n",
       "\n",
       "   Census_IsPenCapable  Census_IsAlwaysOnAlwaysConnectedCapable  Wdft_IsGamer  \\\n",
       "0                    0                                      0.0           0.0   \n",
       "1                    0                                      0.0           0.0   \n",
       "2                    0                                      0.0           0.0   \n",
       "3                    0                                      0.0           0.0   \n",
       "4                    0                                      0.0           0.0   \n",
       "\n",
       "  Wdft_RegionIdentifier HasDetections  \n",
       "0                  10.0             0  \n",
       "1                   8.0             0  \n",
       "2                   3.0             0  \n",
       "3                   3.0             1  \n",
       "4                   1.0             1  \n",
       "\n",
       "[5 rows x 83 columns]"
      ]
     },
     "execution_count": 5,
     "metadata": {},
     "output_type": "execute_result"
    }
   ],
   "source": [
    "print(\"Training Data Snapshot\")\n",
    "panda_malware_training_data.head(5)"
   ]
  },
  {
   "cell_type": "code",
   "execution_count": 6,
   "metadata": {},
   "outputs": [
    {
     "name": "stdout",
     "output_type": "stream",
     "text": [
      "Testing Data Snapshot\n"
     ]
    },
    {
     "data": {
      "text/html": [
       "<div>\n",
       "<style scoped>\n",
       "    .dataframe tbody tr th:only-of-type {\n",
       "        vertical-align: middle;\n",
       "    }\n",
       "\n",
       "    .dataframe tbody tr th {\n",
       "        vertical-align: top;\n",
       "    }\n",
       "\n",
       "    .dataframe thead th {\n",
       "        text-align: right;\n",
       "    }\n",
       "</style>\n",
       "<table border=\"1\" class=\"dataframe\">\n",
       "  <thead>\n",
       "    <tr style=\"text-align: right;\">\n",
       "      <th></th>\n",
       "      <th>MachineIdentifier</th>\n",
       "      <th>ProductName</th>\n",
       "      <th>EngineVersion</th>\n",
       "      <th>AppVersion</th>\n",
       "      <th>AvSigVersion</th>\n",
       "      <th>IsBeta</th>\n",
       "      <th>RtpStateBitfield</th>\n",
       "      <th>IsSxsPassiveMode</th>\n",
       "      <th>DefaultBrowsersIdentifier</th>\n",
       "      <th>AVProductStatesIdentifier</th>\n",
       "      <th>...</th>\n",
       "      <th>Census_FirmwareManufacturerIdentifier</th>\n",
       "      <th>Census_FirmwareVersionIdentifier</th>\n",
       "      <th>Census_IsSecureBootEnabled</th>\n",
       "      <th>Census_IsWIMBootEnabled</th>\n",
       "      <th>Census_IsVirtualDevice</th>\n",
       "      <th>Census_IsTouchEnabled</th>\n",
       "      <th>Census_IsPenCapable</th>\n",
       "      <th>Census_IsAlwaysOnAlwaysConnectedCapable</th>\n",
       "      <th>Wdft_IsGamer</th>\n",
       "      <th>Wdft_RegionIdentifier</th>\n",
       "    </tr>\n",
       "  </thead>\n",
       "  <tbody>\n",
       "    <tr>\n",
       "      <th>0</th>\n",
       "      <td>0000010489e3af074adeac69c53e555e</td>\n",
       "      <td>win8defender</td>\n",
       "      <td>1.1.15400.5</td>\n",
       "      <td>4.18.1810.5</td>\n",
       "      <td>1.281.501.0</td>\n",
       "      <td>0</td>\n",
       "      <td>7.0</td>\n",
       "      <td>0</td>\n",
       "      <td>NaN</td>\n",
       "      <td>53447.0</td>\n",
       "      <td>...</td>\n",
       "      <td>807.0</td>\n",
       "      <td>8554.0</td>\n",
       "      <td>1</td>\n",
       "      <td>NaN</td>\n",
       "      <td>0.0</td>\n",
       "      <td>0</td>\n",
       "      <td>0</td>\n",
       "      <td>0.0</td>\n",
       "      <td>0.0</td>\n",
       "      <td>7.0</td>\n",
       "    </tr>\n",
       "    <tr>\n",
       "      <th>1</th>\n",
       "      <td>00000176ac758d54827acd545b6315a5</td>\n",
       "      <td>win8defender</td>\n",
       "      <td>1.1.15400.4</td>\n",
       "      <td>4.18.1809.2</td>\n",
       "      <td>1.279.301.0</td>\n",
       "      <td>0</td>\n",
       "      <td>7.0</td>\n",
       "      <td>0</td>\n",
       "      <td>NaN</td>\n",
       "      <td>53447.0</td>\n",
       "      <td>...</td>\n",
       "      <td>554.0</td>\n",
       "      <td>33105.0</td>\n",
       "      <td>1</td>\n",
       "      <td>NaN</td>\n",
       "      <td>0.0</td>\n",
       "      <td>0</td>\n",
       "      <td>0</td>\n",
       "      <td>0.0</td>\n",
       "      <td>1.0</td>\n",
       "      <td>12.0</td>\n",
       "    </tr>\n",
       "    <tr>\n",
       "      <th>2</th>\n",
       "      <td>0000019dcefc128c2d4387c1273dae1d</td>\n",
       "      <td>win8defender</td>\n",
       "      <td>1.1.15300.6</td>\n",
       "      <td>4.18.1809.2</td>\n",
       "      <td>1.277.230.0</td>\n",
       "      <td>0</td>\n",
       "      <td>7.0</td>\n",
       "      <td>0</td>\n",
       "      <td>NaN</td>\n",
       "      <td>49480.0</td>\n",
       "      <td>...</td>\n",
       "      <td>556.0</td>\n",
       "      <td>63396.0</td>\n",
       "      <td>1</td>\n",
       "      <td>NaN</td>\n",
       "      <td>0.0</td>\n",
       "      <td>0</td>\n",
       "      <td>0</td>\n",
       "      <td>0.0</td>\n",
       "      <td>1.0</td>\n",
       "      <td>11.0</td>\n",
       "    </tr>\n",
       "    <tr>\n",
       "      <th>3</th>\n",
       "      <td>0000055553dc51b1295785415f1a224d</td>\n",
       "      <td>win8defender</td>\n",
       "      <td>1.1.15400.5</td>\n",
       "      <td>4.18.1810.5</td>\n",
       "      <td>1.281.664.0</td>\n",
       "      <td>0</td>\n",
       "      <td>7.0</td>\n",
       "      <td>0</td>\n",
       "      <td>NaN</td>\n",
       "      <td>42160.0</td>\n",
       "      <td>...</td>\n",
       "      <td>628.0</td>\n",
       "      <td>26320.0</td>\n",
       "      <td>1</td>\n",
       "      <td>0.0</td>\n",
       "      <td>0.0</td>\n",
       "      <td>0</td>\n",
       "      <td>0</td>\n",
       "      <td>0.0</td>\n",
       "      <td>0.0</td>\n",
       "      <td>10.0</td>\n",
       "    </tr>\n",
       "    <tr>\n",
       "      <th>4</th>\n",
       "      <td>00000574cefffeca83ec8adf9285b2bf</td>\n",
       "      <td>win8defender</td>\n",
       "      <td>1.1.15400.4</td>\n",
       "      <td>4.18.1809.2</td>\n",
       "      <td>1.279.236.0</td>\n",
       "      <td>0</td>\n",
       "      <td>7.0</td>\n",
       "      <td>0</td>\n",
       "      <td>NaN</td>\n",
       "      <td>53447.0</td>\n",
       "      <td>...</td>\n",
       "      <td>556.0</td>\n",
       "      <td>63269.0</td>\n",
       "      <td>1</td>\n",
       "      <td>NaN</td>\n",
       "      <td>0.0</td>\n",
       "      <td>0</td>\n",
       "      <td>0</td>\n",
       "      <td>0.0</td>\n",
       "      <td>1.0</td>\n",
       "      <td>3.0</td>\n",
       "    </tr>\n",
       "  </tbody>\n",
       "</table>\n",
       "<p>5 rows × 82 columns</p>\n",
       "</div>"
      ],
      "text/plain": [
       "                  MachineIdentifier   ProductName EngineVersion   AppVersion  \\\n",
       "0  0000010489e3af074adeac69c53e555e  win8defender   1.1.15400.5  4.18.1810.5   \n",
       "1  00000176ac758d54827acd545b6315a5  win8defender   1.1.15400.4  4.18.1809.2   \n",
       "2  0000019dcefc128c2d4387c1273dae1d  win8defender   1.1.15300.6  4.18.1809.2   \n",
       "3  0000055553dc51b1295785415f1a224d  win8defender   1.1.15400.5  4.18.1810.5   \n",
       "4  00000574cefffeca83ec8adf9285b2bf  win8defender   1.1.15400.4  4.18.1809.2   \n",
       "\n",
       "  AvSigVersion  IsBeta  RtpStateBitfield  IsSxsPassiveMode  \\\n",
       "0  1.281.501.0       0               7.0                 0   \n",
       "1  1.279.301.0       0               7.0                 0   \n",
       "2  1.277.230.0       0               7.0                 0   \n",
       "3  1.281.664.0       0               7.0                 0   \n",
       "4  1.279.236.0       0               7.0                 0   \n",
       "\n",
       "   DefaultBrowsersIdentifier  AVProductStatesIdentifier  ...  \\\n",
       "0                        NaN                    53447.0  ...   \n",
       "1                        NaN                    53447.0  ...   \n",
       "2                        NaN                    49480.0  ...   \n",
       "3                        NaN                    42160.0  ...   \n",
       "4                        NaN                    53447.0  ...   \n",
       "\n",
       "   Census_FirmwareManufacturerIdentifier  Census_FirmwareVersionIdentifier  \\\n",
       "0                                  807.0                            8554.0   \n",
       "1                                  554.0                           33105.0   \n",
       "2                                  556.0                           63396.0   \n",
       "3                                  628.0                           26320.0   \n",
       "4                                  556.0                           63269.0   \n",
       "\n",
       "   Census_IsSecureBootEnabled  Census_IsWIMBootEnabled  \\\n",
       "0                           1                      NaN   \n",
       "1                           1                      NaN   \n",
       "2                           1                      NaN   \n",
       "3                           1                      0.0   \n",
       "4                           1                      NaN   \n",
       "\n",
       "   Census_IsVirtualDevice  Census_IsTouchEnabled  Census_IsPenCapable  \\\n",
       "0                     0.0                      0                    0   \n",
       "1                     0.0                      0                    0   \n",
       "2                     0.0                      0                    0   \n",
       "3                     0.0                      0                    0   \n",
       "4                     0.0                      0                    0   \n",
       "\n",
       "   Census_IsAlwaysOnAlwaysConnectedCapable Wdft_IsGamer Wdft_RegionIdentifier  \n",
       "0                                      0.0          0.0                   7.0  \n",
       "1                                      0.0          1.0                  12.0  \n",
       "2                                      0.0          1.0                  11.0  \n",
       "3                                      0.0          0.0                  10.0  \n",
       "4                                      0.0          1.0                   3.0  \n",
       "\n",
       "[5 rows x 82 columns]"
      ]
     },
     "execution_count": 6,
     "metadata": {},
     "output_type": "execute_result"
    }
   ],
   "source": [
    "print(\"Testing Data Snapshot\")\n",
    "panda_malware_testing_data.head(5)"
   ]
  },
  {
   "cell_type": "markdown",
   "metadata": {},
   "source": [
    "<p></p>\n",
    "\n",
    "<p>As a first look at the data, a chart can be constructed to see how many computers are are infected that have anti-virus enabled.</p>"
   ]
  },
  {
   "cell_type": "code",
   "execution_count": 7,
   "metadata": {},
   "outputs": [],
   "source": [
    "#Get the list of all the machines\n",
    "training_machines_list =  panda_malware_training_data[\"MachineIdentifier\"]\n",
    "\n",
    "#Collect the list of computers that have Antivirus enabled\n",
    "training_AVEnabled = panda_malware_training_data[panda_malware_training_data[\"AVProductsEnabled\"] == 1]\n",
    "\n",
    "#Collect the list of computers that have both antivirus enabled and are infected with malware\n",
    "training_has_detections =  panda_malware_training_data[(panda_malware_training_data[\"HasDetections\"] == 0) & (panda_malware_training_data[\"AVProductsEnabled\"] == 1)]"
   ]
  },
  {
   "cell_type": "code",
   "execution_count": 8,
   "metadata": {},
   "outputs": [],
   "source": [
    "#Get the total counts for each list\n",
    "total_computers = training_machines_list.count()\n",
    "total_antivirus_enabled = training_AVEnabled[\"AVProductsEnabled\"].count()\n",
    "total_has_detections =   training_has_detections[\"HasDetections\"].count()"
   ]
  },
  {
   "cell_type": "code",
   "execution_count": 9,
   "metadata": {},
   "outputs": [],
   "source": [
    "#Get the list of all the machines\n",
    "training_machines_list =  panda_malware_training_data[\"MachineIdentifier\"]\n",
    "\n",
    "#Collect the list of computers that have Antivirus enabled\n",
    "training_AVEnabled = panda_malware_training_data[panda_malware_training_data[\"AVProductsEnabled\"] == 1]\n",
    "\n",
    "#Collect the list of computers that have both antivirus enabled and are infected with malware\n",
    "training_has_detections =  panda_malware_training_data[(panda_malware_training_data[\"HasDetections\"] == 0) & (panda_malware_training_data[\"AVProductsEnabled\"] == 1)]"
   ]
  },
  {
   "cell_type": "code",
   "execution_count": 10,
   "metadata": {},
   "outputs": [
    {
     "data": {
      "image/png": "[encoded data removed]",
      "text/plain": [
       "<Figure size 432x288 with 1 Axes>"
      ]
     },
     "metadata": {},
     "output_type": "display_data"
    }
   ],
   "source": [
    "#Plot using a bar chart\n",
    "\n",
    "#Add the x-axis labels\n",
    "x_labels = ['Computers with AVE', 'Computers with Malware']\n",
    "\n",
    "#Add the y-axis labels\n",
    "section_counts = [total_antivirus_enabled, total_has_detections]\n",
    "\n",
    "#Enumerate the x_labels\n",
    "x_pos = [i for i, _ in enumerate(x_labels)]\n",
    "\n",
    "#Plot\n",
    "plt.bar(x_pos, section_counts, color='green')\n",
    "plt.xlabel(\"Computer State\")\n",
    "plt.ylabel(\"Number of Computers\")\n",
    "plt.title(\"Antivirus enabled Vs. Malware infection\")\n",
    "plt.xticks(x_pos, x_labels)\n",
    "plt.show()"
   ]
  },
  {
   "cell_type": "code",
   "execution_count": 11,
   "metadata": {},
   "outputs": [
    {
     "name": "stdout",
     "output_type": "stream",
     "text": [
      "Total Computers: 8921483\n",
      "Computers with antivirus enabled: 8654101 \n",
      "Computers with infected with malware: 4286932\n"
     ]
    }
   ],
   "source": [
    "print(\"Total Computers: {0}\".format(total_computers))\n",
    "print(\"Computers with antivirus enabled: {0} \".format(total_antivirus_enabled))\n",
    "print(\"Computers with infected with malware: {0}\".format(total_has_detections))"
   ]
  },
  {
   "cell_type": "markdown",
   "metadata": {},
   "source": [
    "<p>The initial glance reveals that nearly all of the computers have antivirus enabled but only half\n",
    "of those with antivirus enabled are infected with malware.  This feature might be useful later depending on the model we chose for prediction</p>"
   ]
  },
  {
   "cell_type": "code",
   "execution_count": null,
   "metadata": {
    "jupyter": {
     "source_hidden": true
    }
   },
   "outputs": [],
   "source": []
  },
  {
   "cell_type": "markdown",
   "metadata": {},
   "source": [
    "<h4>IV.) Feature Engineering/Data Cleaning<sup>5</sup></h4>"
   ]
  },
  {
   "cell_type": "markdown",
   "metadata": {},
   "source": []
  },
  {
   "cell_type": "markdown",
   "metadata": {},
   "source": [
    "<hr>"
   ]
  },
  {
   "cell_type": "markdown",
   "metadata": {},
   "source": [
    "\n",
    "<h5>A.) Null Values</h5>\n",
    "<p>There are a few recommendation for data cleaning and feature engineering regarding the training data on Kaggle.  This is important as it will remove unecessary/irrelevant data which should reduce the computational time of both the fitting and prediction proces of model.  References for this process can be found at the end of the report.  This data cleansing will apply to both the training and the testing data</p>\n"
   ]
  },
  {
   "cell_type": "code",
   "execution_count": 12,
   "metadata": {},
   "outputs": [],
   "source": [
    "#Create an array of the columns to be removed\n",
    "data_to_be_dropped = []"
   ]
  },
  {
   "cell_type": "markdown",
   "metadata": {},
   "source": [
    "<p>The first step is determining the the number of null values in each column and dividing by the number of rows.  This will give a percentage of the data that is null in each column.  Columns that have a high percentage of null values can be safely eliminate from further processing as those columns will have little to no impact on the output.</p>"
   ]
  },
  {
   "cell_type": "code",
   "execution_count": 13,
   "metadata": {},
   "outputs": [
    {
     "data": {
      "text/plain": [
       "PuaMode                       0.999741\n",
       "Census_ProcessorClass         0.995894\n",
       "DefaultBrowsersIdentifier     0.951416\n",
       "Census_IsFlightingInternal    0.830440\n",
       "Census_InternalBatteryType    0.710468\n",
       "                                ...   \n",
       "Census_OSVersion              0.000000\n",
       "Census_HasOpticalDiskDrive    0.000000\n",
       "Census_DeviceFamily           0.000000\n",
       "Census_MDC2FormFactor         0.000000\n",
       "MachineIdentifier             0.000000\n",
       "Length: 83, dtype: float64"
      ]
     },
     "execution_count": 13,
     "metadata": {},
     "output_type": "execute_result"
    }
   ],
   "source": [
    "#Eliminate the ellipsis for viewing the columns that are being analyzed\n",
    "pd.set_option('display.max_rows', 12)\n",
    "(panda_malware_training_data.isnull().sum()/panda_malware_training_data.shape[0]).sort_values(ascending=False)"
   ]
  },
  {
   "cell_type": "markdown",
   "metadata": {},
   "source": [
    "<p>From the calculated null values, it appears that\n",
    "<span style=\"background-color:#666666; color: white; padding-left:10px; padding-right:10px; border-radius:5px;\">\n",
    "Puamode and Census_ProcessorClass</span> can be removed as their columns contain null values that are greater than 99%</p>"
   ]
  },
  {
   "cell_type": "code",
   "execution_count": 14,
   "metadata": {},
   "outputs": [],
   "source": [
    "data_to_be_dropped.append('PuaMode')\n",
    "data_to_be_dropped.append('Census_ProcessorClass')"
   ]
  },
  {
   "cell_type": "markdown",
   "metadata": {},
   "source": []
  },
  {
   "cell_type": "markdown",
   "metadata": {},
   "source": [
    "<h5>B.) Skewed Columns</h5>"
   ]
  },
  {
   "cell_type": "markdown",
   "metadata": {},
   "source": [
    "<p>Skewness is a measure of assymetry  of a distribution.  Typically in a normal distribution the mean divides the distribution into two equal parts at the mediam and the skewness is zero.  A negative skew value indicates that the tail end of the distribution is longer towards the left hand side of the curve, and a positive value indicates the same but for the right hand side.</p>"
   ]
  },
  {
   "cell_type": "markdown",
   "metadata": {},
   "source": [
    "<p>Skewness is important because linear models operate on the assumption that the distribution of the independent variable and dependent variable are similar.  If the input data is skewed, then the model will be good at predicting only skewed data (postive or negatively skewed).  Depending on how bad the skewness is, this could render erronous predictions if normal or oppositely skewed data is used as the model will have insufficient information to draw a conclusion for data points that are not adequetly covered in the training data.</p>"
   ]
  },
  {
   "cell_type": "code",
   "execution_count": 15,
   "metadata": {},
   "outputs": [
    {
     "data": {
      "text/html": [
       "<div>\n",
       "<style scoped>\n",
       "    .dataframe tbody tr th:only-of-type {\n",
       "        vertical-align: middle;\n",
       "    }\n",
       "\n",
       "    .dataframe tbody tr th {\n",
       "        vertical-align: top;\n",
       "    }\n",
       "\n",
       "    .dataframe thead th {\n",
       "        text-align: right;\n",
       "    }\n",
       "</style>\n",
       "<table border=\"1\" class=\"dataframe\">\n",
       "  <thead>\n",
       "    <tr style=\"text-align: right;\">\n",
       "      <th></th>\n",
       "      <th>column</th>\n",
       "      <th>uniq</th>\n",
       "      <th>skewness</th>\n",
       "    </tr>\n",
       "  </thead>\n",
       "  <tbody>\n",
       "    <tr>\n",
       "      <th>75</th>\n",
       "      <td>Census_IsWIMBootEnabled</td>\n",
       "      <td>2</td>\n",
       "      <td>100.0000</td>\n",
       "    </tr>\n",
       "    <tr>\n",
       "      <th>5</th>\n",
       "      <td>IsBeta</td>\n",
       "      <td>2</td>\n",
       "      <td>99.9992</td>\n",
       "    </tr>\n",
       "    <tr>\n",
       "      <th>69</th>\n",
       "      <td>Census_IsFlightsDisabled</td>\n",
       "      <td>2</td>\n",
       "      <td>99.9990</td>\n",
       "    </tr>\n",
       "    <tr>\n",
       "      <th>68</th>\n",
       "      <td>Census_IsFlightingInternal</td>\n",
       "      <td>2</td>\n",
       "      <td>99.9986</td>\n",
       "    </tr>\n",
       "    <tr>\n",
       "      <th>27</th>\n",
       "      <td>AutoSampleOptIn</td>\n",
       "      <td>2</td>\n",
       "      <td>99.9971</td>\n",
       "    </tr>\n",
       "    <tr>\n",
       "      <th>...</th>\n",
       "      <td>...</td>\n",
       "      <td>...</td>\n",
       "      <td>...</td>\n",
       "    </tr>\n",
       "    <tr>\n",
       "      <th>4</th>\n",
       "      <td>AvSigVersion</td>\n",
       "      <td>8531</td>\n",
       "      <td>1.1469</td>\n",
       "    </tr>\n",
       "    <tr>\n",
       "      <th>14</th>\n",
       "      <td>CityIdentifier</td>\n",
       "      <td>107366</td>\n",
       "      <td>1.1030</td>\n",
       "    </tr>\n",
       "    <tr>\n",
       "      <th>73</th>\n",
       "      <td>Census_FirmwareVersionIdentifier</td>\n",
       "      <td>50494</td>\n",
       "      <td>1.0228</td>\n",
       "    </tr>\n",
       "    <tr>\n",
       "      <th>44</th>\n",
       "      <td>Census_SystemVolumeTotalCapacity</td>\n",
       "      <td>536848</td>\n",
       "      <td>0.5863</td>\n",
       "    </tr>\n",
       "    <tr>\n",
       "      <th>0</th>\n",
       "      <td>MachineIdentifier</td>\n",
       "      <td>8921483</td>\n",
       "      <td>0.0000</td>\n",
       "    </tr>\n",
       "  </tbody>\n",
       "</table>\n",
       "<p>83 rows × 3 columns</p>\n",
       "</div>"
      ],
      "text/plain": [
       "                              column     uniq  skewness\n",
       "75           Census_IsWIMBootEnabled        2  100.0000\n",
       "5                             IsBeta        2   99.9992\n",
       "69          Census_IsFlightsDisabled        2   99.9990\n",
       "68        Census_IsFlightingInternal        2   99.9986\n",
       "27                   AutoSampleOptIn        2   99.9971\n",
       "..                               ...      ...       ...\n",
       "4                       AvSigVersion     8531    1.1469\n",
       "14                    CityIdentifier   107366    1.1030\n",
       "73  Census_FirmwareVersionIdentifier    50494    1.0228\n",
       "44  Census_SystemVolumeTotalCapacity   536848    0.5863\n",
       "0                  MachineIdentifier  8921483    0.0000\n",
       "\n",
       "[83 rows x 3 columns]"
      ]
     },
     "execution_count": 15,
     "metadata": {},
     "output_type": "execute_result"
    }
   ],
   "source": [
    "pd.options.display.float_format = '{:,.4f}'.format\n",
    "\n",
    "#nunique will count the number of unique observations for a particular column\n",
    "#skewness calcualtes the assymetry of the column of data\n",
    "sk_df = pd.DataFrame([{'column': c, 'uniq': panda_malware_training_data[c].nunique(), 'skewness': panda_malware_training_data[c].value_counts(normalize=True).values[0] * 100} for c in panda_malware_training_data.columns])\n",
    "sk_df = sk_df.sort_values('skewness', ascending=False)\n",
    "sk_df"
   ]
  },
  {
   "cell_type": "markdown",
   "metadata": {},
   "source": [
    "<p>Because of the extreme skewness, the first 12 columns can be dropped </p>"
   ]
  },
  {
   "cell_type": "code",
   "execution_count": 16,
   "metadata": {},
   "outputs": [
    {
     "name": "stdout",
     "output_type": "stream",
     "text": [
      "Training data has the following shape: (8921483, 70) \n",
      "Testing data has the following shape: (7853253, 69) \n"
     ]
    }
   ],
   "source": [
    "#Extend iterates over its argument and adding each element to the list and extending the list\n",
    "#of data that can be removed from the training set.  If the skewness is greater than 99% we\n",
    "#get rid of it.\n",
    "data_to_be_dropped.extend(sk_df[sk_df.skewness > 99].column.tolist())\n",
    "\n",
    "#Duplicate value removed from previous addition\n",
    "data_to_be_dropped.remove('PuaMode')\n",
    "\n",
    "#print(\"Columns to be dropped {0}\".format(data_to_be_dropped))\n",
    "\n",
    "#copy the data to a new variable and drop it so you can stage updates\n",
    "#without redoing entire notebook sections\n",
    "panda_malware_training_data.drop(data_to_be_dropped, axis = 1, inplace=True)\n",
    "panda_malware_testing_data.drop(data_to_be_dropped, axis = 1, inplace=True)\n",
    "\n",
    "print(\"Training data has the following shape: {0} \".format(panda_malware_training_data.shape))\n",
    "print(\"Testing data has the following shape: {0} \".format(panda_malware_testing_data.shape))"
   ]
  },
  {
   "cell_type": "markdown",
   "metadata": {},
   "source": []
  },
  {
   "cell_type": "markdown",
   "metadata": {},
   "source": [
    "<h5>C.) Missing Data</h5>"
   ]
  },
  {
   "cell_type": "markdown",
   "metadata": {},
   "source": [
    "<p>Next, any columns which are missing more than 10% their values should have their missing values filled.</p>"
   ]
  },
  {
   "cell_type": "code",
   "execution_count": 17,
   "metadata": {},
   "outputs": [
    {
     "data": {
      "text/plain": [
       "DefaultBrowsersIdentifier    0.9514\n",
       "OrganizationIdentifier       0.3084\n",
       "SmartScreen                  0.3561\n",
       "Census_InternalBatteryType   0.7105\n",
       "dtype: float64"
      ]
     },
     "execution_count": 17,
     "metadata": {},
     "output_type": "execute_result"
    }
   ],
   "source": [
    "# Nan Values\n",
    "\n",
    "#Count the number of null values\n",
    "null_values_count =  panda_malware_training_data.isnull().sum()\n",
    "\n",
    "#Divide the number of null values in each column by the total number of rows\n",
    "null_values_count = null_values_count / panda_malware_training_data.shape[0]\n",
    "\n",
    "#Only show the columns which have more than 10% of their values null.\n",
    "null_values_count[null_values_count > 0.1]"
   ]
  },
  {
   "cell_type": "markdown",
   "metadata": {},
   "source": [
    "<p>The 4 columns above have between 35 - 95% of their values which are null.  The dataypes should be determined attempting to to fill the data in.</p>"
   ]
  },
  {
   "cell_type": "code",
   "execution_count": 18,
   "metadata": {},
   "outputs": [
    {
     "name": "stdout",
     "output_type": "stream",
     "text": [
      "DefaultBroswersIdentifier dtype: float16\n",
      "OrganizationIdentifier: float16\n",
      "SmartScreen: object\n",
      "Census_InternalBatteryTypdtype: object\n"
     ]
    }
   ],
   "source": [
    "print('DefaultBroswersIdentifier dtype: {0}'.format(panda_malware_training_data['DefaultBrowsersIdentifier'].dtype))\n",
    "print('OrganizationIdentifier: {0}'.format(panda_malware_training_data['OrganizationIdentifier'].dtype))\n",
    "print('SmartScreen: {0}'.format(panda_malware_training_data['SmartScreen'].dtype))\n",
    "print('Census_InternalBatteryTypdtype: {0}'.format(panda_malware_training_data['Census_InternalBatteryType'].dtype))"
   ]
  },
  {
   "cell_type": "code",
   "execution_count": 19,
   "metadata": {},
   "outputs": [],
   "source": [
    "#replace missing values with 0 for default browser\n",
    "panda_malware_training_data['DefaultBrowsersIdentifier'].fillna(0, inplace=True)\n",
    "panda_malware_training_data.replace({'OrganizationIdentifier': {np.nan: 0}}, inplace=True)\n",
    "\n",
    "panda_malware_testing_data['DefaultBrowsersIdentifier'].fillna(0, inplace=True)\n",
    "panda_malware_testing_data.replace({'OrganizationIdentifier': {np.nan: 0}}, inplace=True)\n",
    "\n",
    "#replacements for smart screen values using dictionary values\n",
    "smart_screen_dict = {\n",
    "    'off': 'Off', '&#x02;': '2', '&#x01;': '1', 'on': 'On', 'requireadmin': 'RequireAdmin', 'OFF': 'Off', \n",
    "    'Promt': 'Prompt', 'requireAdmin': 'RequireAdmin', 'prompt': 'Prompt', 'warn': 'Warn', \n",
    "    '00000000': '0', '&#x03;': '3', np.nan: 'NoExist'\n",
    "}\n",
    "\n",
    "panda_malware_training_data.replace({'SmartScreen': smart_screen_dict}, inplace=True)\n",
    "panda_malware_testing_data.replace({'SmartScreen': smart_screen_dict}, inplace=True)\n",
    "\n",
    "#replacements for census_InternalBatteryType using dictionary values\n",
    "census_internal_battery_type_dict = {\n",
    "    '\u001f˙˙˙': 'unknown', 'unkn': 'unknown', np.nan: 'unknown'\n",
    "}\n",
    "\n",
    "panda_malware_training_data.replace({'Census_InternalBatteryType': census_internal_battery_type_dict}, inplace=True)\n",
    "panda_malware_testing_data.replace({'Census_InternalBatteryType': census_internal_battery_type_dict}, inplace=True)"
   ]
  },
  {
   "cell_type": "code",
   "execution_count": 20,
   "metadata": {},
   "outputs": [
    {
     "name": "stdout",
     "output_type": "stream",
     "text": [
      "Traing Data Rev2 Shape: (8921483, 70)\n",
      "Testing Data Rev2 Shape: (7853253, 69)\n"
     ]
    }
   ],
   "source": [
    "print(\"Traing Data Rev2 Shape: {0}\".format(panda_malware_training_data.shape))\n",
    "print(\"Testing Data Rev2 Shape: {0}\".format(panda_malware_testing_data.shape))"
   ]
  },
  {
   "cell_type": "markdown",
   "metadata": {},
   "source": []
  },
  {
   "cell_type": "markdown",
   "metadata": {},
   "source": [
    "<h5>D.) Fill Remainnig NA/NAN values</h5>"
   ]
  },
  {
   "cell_type": "markdown",
   "metadata": {},
   "source": [
    "<p>Any values that have \"nan\" or \"na\" values need to be filled in.  To do so, the number of unique values in particular column\n",
    "are identified counted and aggregated.  The value with the highest incident rate is used as then used as the overall replacement value for a particualar index that needs to be filling.</p>"
   ]
  },
  {
   "cell_type": "code",
   "execution_count": 21,
   "metadata": {},
   "outputs": [
    {
     "name": "stdout",
     "output_type": "stream",
     "text": [
      "Traing Data Rev3 Shape: (7667789, 70)\n",
      "Testing Data Rev3 Shape: (7853253, 69)\n"
     ]
    }
   ],
   "source": [
    "\n",
    "#fillna any remaining data. \n",
    "for col in panda_malware_testing_data:\n",
    "    \n",
    "    #get dtype for column\n",
    "    dt = panda_malware_testing_data[col].dtype \n",
    "    \n",
    "    #check if it is a categroy or an object\n",
    "    if dt != 'object':\n",
    "        panda_malware_testing_data[col].fillna(0, inplace=True)\n",
    "    else:\n",
    "        \n",
    "        #fill nan with random values from the column or take the mode of each column and select highest occurance\n",
    "        op1 = panda_malware_training_data[col].value_counts('self').index.tolist()[0]\n",
    "        \n",
    "        #op2 = random.choice(panda_malware_testing_data_rev3[col].unique())\n",
    "        panda_malware_testing_data[col].fillna(op1, inplace=True)\n",
    "\n",
    "\n",
    "#Drop remaining columns which have values missing\n",
    "panda_malware_training_data.dropna(inplace=True)\n",
    "panda_malware_testing_data.dropna(inplace=True)\n",
    "\n",
    "print(\"Traing Data Rev3 Shape: {0}\".format(panda_malware_training_data.shape))\n",
    "print(\"Testing Data Rev3 Shape: {0}\".format(panda_malware_testing_data.shape))"
   ]
  },
  {
   "cell_type": "markdown",
   "metadata": {},
   "source": [
    "<p>Further steps are taken to eliminate to eliminate data which has missing features, is too skewed, are highly correlated, or clearly have no impact on malware infection (screen resolution census or if a screen is touch enabled).\n",
    "For the sake of brevity the resulting datasets below are removed.</p>"
   ]
  },
  {
   "cell_type": "markdown",
   "metadata": {
    "jupyter": {
     "source_hidden": true
    }
   },
   "source": []
  },
  {
   "cell_type": "code",
   "execution_count": 22,
   "metadata": {},
   "outputs": [],
   "source": [
    "#Prefinal data drop;\n",
    "#run once only to store state!------------------------------------------------------\n",
    "panda_malware_training_data_pre_final = panda_malware_training_data.copy(deep=True)\n",
    "panda_malware_testing_data_pre_final = panda_malware_testing_data.copy(deep=True)\n",
    "#run once only to store state!------------------------------------------------------"
   ]
  },
  {
   "cell_type": "code",
   "execution_count": 23,
   "metadata": {},
   "outputs": [
    {
     "name": "stdout",
     "output_type": "stream",
     "text": [
      "Trainng Data Rev4 Shape: (7667789, 59)\n",
      "Testing Data Rev4 Shape: (7853253, 58)\n"
     ]
    }
   ],
   "source": [
    "panda_malware_training_data = panda_malware_training_data_pre_final.copy(deep=True)\n",
    "panda_malware_testing_data = panda_malware_testing_data_pre_final.copy(deep=True)\n",
    "\n",
    "final_columns_removal = ['Platform', 'Census_OSSkuName', 'Census_OSInstallLanguageIdentifier'\n",
    "                         , 'Processor', 'Census_InternalPrimaryDisplayResolutionHorizontal', \n",
    "                         'Census_InternalPrimaryDisplayResolutionVertical', 'MachineIdentifier', \n",
    "                         'Census_InternalBatteryType', 'Census_InternalBatteryNumberOfCharges',\n",
    "                         'Census_IsTouchEnabled', 'Census_IsPenCapable']\n",
    "\n",
    "machine_names = panda_malware_testing_data['MachineIdentifier'];\n",
    "\n",
    "panda_malware_training_data.drop(final_columns_removal,axis=1, inplace=True)\n",
    "panda_malware_testing_data.drop(final_columns_removal,axis=1, inplace=True)\n",
    "\n",
    "print(\"Trainng Data Rev4 Shape: {0}\".format(panda_malware_training_data.shape))\n",
    "print(\"Testing Data Rev4 Shape: {0}\".format(panda_malware_testing_data.shape))"
   ]
  },
  {
   "cell_type": "code",
   "execution_count": 24,
   "metadata": {},
   "outputs": [],
   "source": [
    "#Final data;\n",
    "#run once only to store state!------------------------------------------------------\n",
    "panda_malware_training_data_final = panda_malware_training_data.copy(deep=True)\n",
    "panda_malware_testing_data_final = panda_malware_testing_data.copy(deep=True)\n",
    "#run once only to store state!------------------------------------------------------"
   ]
  },
  {
   "cell_type": "markdown",
   "metadata": {},
   "source": []
  },
  {
   "cell_type": "markdown",
   "metadata": {},
   "source": [
    "<h5>E.) Vectorization of Categorical Data</h5>"
   ]
  },
  {
   "cell_type": "markdown",
   "metadata": {},
   "source": [
    "<p>Finally all the object fields (categorical data) has to be vectorized into an series of integers which replaces any unique string values. The\n",
    "sklearn preprocessing library will be to transform  any string classes to integer classes and replace the string in the dataframe with its appropriate\n",
    "integers.</p>"
   ]
  },
  {
   "cell_type": "code",
   "execution_count": 25,
   "metadata": {},
   "outputs": [],
   "source": [
    "#le.inverse_transform(yss)\n",
    "    \n",
    "#print(panda_malware_training_data_rev5['EngineVersion'])\n",
    "#Method 1 of transforming categories into integer vectors\n",
    "#far = pd.factorize(temp_training['EngineVersion'])[0]\n",
    "#print(far)\n",
    "#print(np.unique(far).size)\n",
    "\n",
    "from sklearn import preprocessing\n",
    "\n",
    "object_columns = []\n",
    "\n",
    "\n",
    "#Get an array of all the column names that are objects\n",
    "for (columnName, columnData) in panda_malware_training_data.iteritems():\n",
    "    #print(columnData.dtype)\n",
    "    if(columnData.dtype == 'object' or columnData.dtype.name == 'object'):\n",
    "        object_columns = np.append(object_columns, columnName)\n",
    "\n",
    "#Replace the object columns with ints        \n",
    "for columnName in object_columns:\n",
    "    label_encoder_training = preprocessing.LabelEncoder()\n",
    "    label_encoder_testing = preprocessing.LabelEncoder()\n",
    "    \n",
    "    label_encoder_training.fit(panda_malware_training_data[columnName].astype(str))\n",
    "    label_encoder_testing.fit(panda_malware_testing_data[columnName].astype(str))\n",
    "    \n",
    "    integer_classes_training = label_encoder_training.transform(panda_malware_training_data[columnName])\n",
    "    integer_classes_testing = label_encoder_testing.transform(panda_malware_testing_data[columnName])\n",
    "    \n",
    "    panda_malware_training_data.drop(columnName, axis=1, inplace=True)\n",
    "    panda_malware_training_data[columnName] = integer_classes_training\n",
    "    \n",
    "    panda_malware_testing_data.drop(columnName, axis=1, inplace=True)\n",
    "    panda_malware_testing_data[columnName] = integer_classes_testing"
   ]
  },
  {
   "cell_type": "code",
   "execution_count": null,
   "metadata": {
    "jupyter": {
     "source_hidden": true
    }
   },
   "outputs": [],
   "source": []
  },
  {
   "cell_type": "markdown",
   "metadata": {},
   "source": [
    "<h4>V. EDA</h4>"
   ]
  },
  {
   "cell_type": "markdown",
   "metadata": {},
   "source": [
    "<hr>"
   ]
  },
  {
   "cell_type": "markdown",
   "metadata": {},
   "source": [
    "<p>In order to become more familiar with the data, we must peform some exploratory data analysis.  This may help in discovering patterns in the data, spoting anomolies and other of summary statistics and graphical representations.</p>"
   ]
  },
  {
   "cell_type": "code",
   "execution_count": 30,
   "metadata": {},
   "outputs": [
    {
     "name": "stdout",
     "output_type": "stream",
     "text": [
      "count   7,667,789.0000\n",
      "mean            0.5017\n",
      "std             0.5000\n",
      "min             0.0000\n",
      "25%             0.0000\n",
      "50%             1.0000\n",
      "75%             1.0000\n",
      "max             1.0000\n",
      "Name: HasDetections, dtype: float64\n"
     ]
    },
    {
     "data": {
      "image/png": "[encoded data removed]",
      "text/plain": [
       "<Figure size 648x576 with 1 Axes>"
      ]
     },
     "metadata": {},
     "output_type": "display_data"
    }
   ],
   "source": [
    "print(panda_malware_training_data_final['HasDetections'].describe())\n",
    "plt.figure(figsize=(9, 8))\n",
    "sns.distplot(panda_malware_training_data_final['HasDetections'], color='g', bins=2, hist_kws={'alpha': 0.4});"
   ]
  },
  {
   "cell_type": "code",
   "execution_count": 32,
   "metadata": {},
   "outputs": [
    {
     "data": {
      "image/png": "[encoded data removed]",
      "text/plain": [
       "<Figure size 1152x1440 with 42 Axes>"
      ]
     },
     "metadata": {},
     "output_type": "display_data"
    }
   ],
   "source": [
    "panda_malware_training_data_final.hist(figsize=(16, 20), bins=50, xlabelsize=5, ylabelsize=5);"
   ]
  },
  {
   "cell_type": "code",
   "execution_count": null,
   "metadata": {
    "jupyter": {
     "source_hidden": true
    }
   },
   "outputs": [],
   "source": []
  },
  {
   "cell_type": "code",
   "execution_count": null,
   "metadata": {
    "jupyter": {
     "source_hidden": true
    }
   },
   "outputs": [],
   "source": []
  },
  {
   "cell_type": "code",
   "execution_count": null,
   "metadata": {},
   "outputs": [],
   "source": []
  },
  {
   "cell_type": "markdown",
   "metadata": {},
   "source": [
    "<h4>VI. Model Selection: KNN</h4>"
   ]
  },
  {
   "cell_type": "markdown",
   "metadata": {},
   "source": [
    "<hr>"
   ]
  },
  {
   "cell_type": "markdown",
   "metadata": {},
   "source": [
    "<p>The K-Nearest Neighbor model was selected to try and predict whether or not a computer was infected with malware.  Ultimately there was uncertainty if malware detection was/is a linear or nonlinear problem (or both!).  The KNN model covers both linear and nonlinear space (due to fitting of the class boundary).  Although KNN is generally slower for large datasets (and this definitely a LARGE dataset), from  previous experience, the processing efficiency of the model using the MNIST image data for determining a hand written image was pretty good and KNN was able to deliver the prediction values with a rather high accuracy score in about 2/3 the time of the Logistic Model.  Finally there are two hypertuning tuning parameters <span style=\"background-color:#666666; color: white; padding-left:10px; padding-right:10px; border-radius:5px;\">k and the distance</span>, however for the purposes of this analysis k will only be tuned </p>"
   ]
  },
  {
   "cell_type": "markdown",
   "metadata": {},
   "source": [
    "<p>The first step is to determine the appropriate value for k.  This is done by break the training data further into 4 subgroups <span style=\"background-color:#666666; color: white; padding-left:10px; padding-right:10px; border-radius:5px;\">mwX_train, mwX_test, mwy_train, mwy_test</span></p>"
   ]
  },
  {
   "cell_type": "code",
   "execution_count": 42,
   "metadata": {},
   "outputs": [
    {
     "name": "stdout",
     "output_type": "stream",
     "text": [
      "mwX_train shape:(3833895, 58)\n",
      "mwX_test shape:(3833894, 58)\n",
      "mwy_train shape:(3833895,)\n",
      "mwy_test shape:(3833894,)\n"
     ]
    }
   ],
   "source": [
    "mwX_train, mwX_test =  panda_malware_training_data.loc[0::2, panda_malware_training_data.columns != 'HasDetections'],  panda_malware_training_data.loc[1::2, panda_malware_training_data.columns != 'HasDetections']\n",
    "mwy_train, mwy_test = panda_malware_training_data[0::2][\"HasDetections\"].values.reshape(-1,1).ravel(), panda_malware_training_data[1::2][\"HasDetections\"].values.reshape(-1,1).ravel()\n",
    "\n",
    "#Shape check\n",
    "print(\"mwX_train shape:{0}\".format(mwX_train.shape))\n",
    "print(\"mwX_test shape:{0}\".format(mwX_test.shape))\n",
    "print(\"mwy_train shape:{0}\".format(mwy_train.shape))\n",
    "print(\"mwy_test shape:{0}\".format(mwy_test.shape))\n"
   ]
  },
  {
   "cell_type": "markdown",
   "metadata": {},
   "source": []
  },
  {
   "cell_type": "markdown",
   "metadata": {},
   "source": [
    "<p>The KNN model can now be iterated over to determine the optimal k value.  Despite the reduced size of the training data, this stepp will require a further reduction in the inputted training data as computation times are still long despite KNN's mulithreading option and , if the datasizes are too large, the program may crash tdue to physical memory limitations</p>"
   ]
  },
  {
   "cell_type": "markdown",
   "metadata": {},
   "source": []
  },
  {
   "cell_type": "code",
   "execution_count": 68,
   "metadata": {},
   "outputs": [
    {
     "name": "stdout",
     "output_type": "stream",
     "text": [
      "Current Maximum Accuracy is 0.7549040066777963 at a k value of:  999\n"
     ]
    },
    {
     "data": {
      "image/png": "[encoded data removed]",
      "text/plain": [
       "<Figure size 432x288 with 1 Axes>"
      ]
     },
     "metadata": {},
     "output_type": "display_data"
    }
   ],
   "source": [
    "#iterate through multiple k values\n",
    "recalls=[]\n",
    "ks = [1, 10, 28, 59, 101, 145, 301, 601, 999]\n",
    "for k in ks:\n",
    "    knn = sklearn.neighbors.KNeighborsClassifier(n_neighbors=k, n_jobs=-1)\n",
    "    knn.fit(mwX_train[0::100], mwy_train[0::100])\n",
    "    knn_predicted = knn.predict(mwX_test[0::100])\n",
    "    knn_cm = sklearn.metrics.confusion_matrix(mwy_test[0::100], knn_predicted)\n",
    "    recalls.append(sklearn.metrics.recall_score(mwy_test[0::100], knn_predicted))\n",
    "    \n",
    "plt.xlabel('K-Value', fontsize=16)\n",
    "plt.ylabel('Accuracy', fontsize=16)\n",
    "plt.axis([1,999,0,1])\n",
    "plt.plot(ks, recalls)\n",
    "print(\"Current Maximum Accuracy is\", max(recalls), \"at a k value of: \", ks[recalls.index(max(recalls))])"
   ]
  },
  {
   "cell_type": "markdown",
   "metadata": {
    "jupyter": {
     "source_hidden": true
    }
   },
   "source": []
  },
  {
   "cell_type": "markdown",
   "metadata": {},
   "source": [
    "<p>The graph illustrates that the accuracy of KNN model increases as k increases.  The inital value of k = 1 is ~54.3% accurate with the training data, while k = 999 yeilds a 20% increase in model accuracy to ~75.5%.</p>"
   ]
  },
  {
   "cell_type": "markdown",
   "metadata": {},
   "source": []
  },
  {
   "cell_type": "markdown",
   "metadata": {},
   "source": [
    "<p>A new model can be rebuilt using the new value of k and the training data.</p>"
   ]
  },
  {
   "cell_type": "code",
   "execution_count": 44,
   "metadata": {},
   "outputs": [
    {
     "name": "stdout",
     "output_type": "stream",
     "text": [
      "x_training  (76678, 58)\n",
      "y_training  (76678,)\n"
     ]
    }
   ],
   "source": [
    "y_training =  panda_malware_training_data[0::100][\"HasDetections\"].values.reshape(-1,1).ravel()\n",
    "x_training = panda_malware_training_data.loc[0::100, panda_malware_training_data.columns != 'HasDetections']\n",
    "\n",
    "print(\"x_training \",x_training.shape)\n",
    "print(\"y_training \",y_training.shape)"
   ]
  },
  {
   "cell_type": "markdown",
   "metadata": {},
   "source": [
    "<p>Unfortunately, despite the decent accuracy score at a tuning value of k = 999, the physical memory limitations of the computer system this analysis prevent its used. A lower value of k = 145 ~ 70.63%  will be used instead to keep the system from crashing.</p>"
   ]
  },
  {
   "cell_type": "code",
   "execution_count": 47,
   "metadata": {},
   "outputs": [
    {
     "name": "stdout",
     "output_type": "stream",
     "text": [
      "Time to fit data using KNN --- 3.5062005519866943 seconds ---\n"
     ]
    }
   ],
   "source": [
    "knn_training_model = sklearn.neighbors.KNeighborsClassifier(n_neighbors = 1, n_jobs=-1)\n",
    "\n",
    "start_time = time.time()\n",
    "knn_training_model.fit(x_training, y_training)\n",
    "print(\"Time to fit data using KNN --- %s seconds ---\" % (time.time() - start_time))"
   ]
  },
  {
   "cell_type": "code",
   "execution_count": 48,
   "metadata": {},
   "outputs": [
    {
     "name": "stdout",
     "output_type": "stream",
     "text": [
      "Time to predict data using KNN --- 501.698691368103 seconds ---\n"
     ]
    }
   ],
   "source": [
    "start_time = time.time()\n",
    "knn_predicted = knn_training_model.predict(panda_malware_testing_data)\n",
    "print(\"Time to predict data using KNN --- %s seconds ---\" % (time.time() - start_time))"
   ]
  },
  {
   "cell_type": "code",
   "execution_count": 30,
   "metadata": {},
   "outputs": [],
   "source": [
    "results = {'MachineIdentifier':machine_names, 'HasDetections':knn_predicted }\n",
    "df.to_csv('submission_5_KNN_135', index=False)"
   ]
  },
  {
   "cell_type": "markdown",
   "metadata": {},
   "source": [
    "<h5>Results</h5>\n",
    "<p>\n",
    "<span>3.5062 seconds to fit and 501.69 to preidct @ k = 1</span><br>    \n",
    "<span>3.5762 seconds to fit and 1063.0807 to preidct @ k = 145</span><br>\n",
    "</p>\n",
    "<p>\n",
    "    \n",
    "    kaggle results for KNN @ k = 1: 51.98%\n",
    "    kaggle results for KNN @ k = 145 :  \n",
    "</p>\n"
   ]
  },
  {
   "cell_type": "code",
   "execution_count": null,
   "metadata": {
    "jupyter": {
     "source_hidden": true
    }
   },
   "outputs": [],
   "source": []
  },
  {
   "cell_type": "code",
   "execution_count": 76,
   "metadata": {
    "jupyter": {
     "source_hidden": true
    }
   },
   "outputs": [
    {
     "data": {
      "text/html": [
       "<div>\n",
       "<style scoped>\n",
       "    .dataframe tbody tr th:only-of-type {\n",
       "        vertical-align: middle;\n",
       "    }\n",
       "\n",
       "    .dataframe tbody tr th {\n",
       "        vertical-align: top;\n",
       "    }\n",
       "\n",
       "    .dataframe thead th {\n",
       "        text-align: right;\n",
       "    }\n",
       "</style>\n",
       "<table border=\"1\" class=\"dataframe\">\n",
       "  <thead>\n",
       "    <tr style=\"text-align: right;\">\n",
       "      <th></th>\n",
       "      <th>method</th>\n",
       "      <th>Tuning-Parameter</th>\n",
       "      <th>Values</th>\n",
       "      <th>time-to-fit</th>\n",
       "      <th>time-to-predict</th>\n",
       "      <th>Kaggle-Score</th>\n",
       "    </tr>\n",
       "  </thead>\n",
       "  <tbody>\n",
       "    <tr>\n",
       "      <th>0</th>\n",
       "      <td>KNN</td>\n",
       "      <td>k</td>\n",
       "      <td>1</td>\n",
       "      <td>3.5062</td>\n",
       "      <td>505.6900</td>\n",
       "      <td>51.9800</td>\n",
       "    </tr>\n",
       "    <tr>\n",
       "      <th>1</th>\n",
       "      <td>KNN</td>\n",
       "      <td>k</td>\n",
       "      <td>145</td>\n",
       "      <td>3.5762</td>\n",
       "      <td>1,063.0807</td>\n",
       "      <td>53.7040</td>\n",
       "    </tr>\n",
       "  </tbody>\n",
       "</table>\n",
       "</div>"
      ],
      "text/plain": [
       "  method Tuning-Parameter  Values  time-to-fit  time-to-predict  Kaggle-Score\n",
       "0    KNN                k       1       3.5062         505.6900       51.9800\n",
       "1    KNN                k     145       3.5762       1,063.0807       53.7040"
      ]
     },
     "execution_count": 76,
     "metadata": {},
     "output_type": "execute_result"
    }
   ],
   "source": [
    "pd_results_table = pd.DataFrame({'method': 'KNN',\n",
    "                                 'Tuning-Parameter': 'k', \n",
    "                                 'Values':[1,145],\n",
    "                                 'time-to-fit':[3.5062, 3.5762], \n",
    "                                 'time-to-predict':[505.69, 1063.0807],\n",
    "                                 'Kaggle-Score':[51.98, 53.704]})\n",
    "pd_results_table"
   ]
  },
  {
   "cell_type": "markdown",
   "metadata": {},
   "source": [
    "<H5>While the </H5>"
   ]
  },
  {
   "cell_type": "markdown",
   "metadata": {},
   "source": [
    "<H5>Discussion</H5>"
   ]
  },
  {
   "cell_type": "markdown",
   "metadata": {},
   "source": [
    "<H5>Discussion</H5>"
   ]
  },
  {
   "cell_type": "markdown",
   "metadata": {},
   "source": [
    "<H5>Discussion</H5>"
   ]
  },
  {
   "cell_type": "markdown",
   "metadata": {},
   "source": [
    "<H4>Retrospective/Conclusion</H4>"
   ]
  },
  {
   "cell_type": "markdown",
   "metadata": {},
   "source": [
    "<hr>"
   ]
  },
  {
   "cell_type": "markdown",
   "metadata": {},
   "source": [
    "<p>For the two methods selected. KNN seemed to work best.</p>"
   ]
  },
  {
   "cell_type": "markdown",
   "metadata": {},
   "source": [
    "<p>The results of this project fell short of my own goals.  I would say 80% of the time dedicated to this project was spent learning how to clean and reconcile the data and/or bug tracking.  This slowed things down considerably as I was muck-mired chasing rouge 'nan' values once the bulk data cleansing was finished.  This critically shortened the amount of time I was able to spend on the modeling and EDA aspect of this project.  I beleive the overall accuracy scores of the KNN model could be improved with better selection and elimination of the training parameters.     Regardless, </p>"
   ]
  },
  {
   "cell_type": "markdown",
   "metadata": {},
   "source": [
    "<H5>References</H5>"
   ]
  },
  {
   "cell_type": "markdown",
   "metadata": {},
   "source": [
    "<H5>References</H5>"
   ]
  },
  {
   "cell_type": "markdown",
   "metadata": {},
   "source": [
    "<h6>\n",
    "<ol>\n",
    "    <li>https://towardsdatascience.com/comparative-study-on-classic-machine-learning-algorithms-24f9ff6ab222#:~:text=KNN%20is%20a%20non%2Dparametric%20model%2C%20where%20LR%20is%20a,can%20only%20output%20the%20labels.</li>\n",
    "    <br>\n",
    "    <li>https://pythontic.com/pandas/dataframe-computations/skew#:~:text=skewness()%20function%20in%20pandas,present%20in%20the%20DataFrame%20object.</li>\n",
    "    <br>\n",
    "    <li>https://www.analyticsvidhya.com/blog/2020/07/what-is-skewness-statistics/</li>\n",
    "    <br>\n",
    "    <li>https://www.tensorflow.org/tutorials</li>\n",
    "    <br>\n",
    "    <li>https://www.kaggle.com/jiegeng94/everyone-do-this-at-the-beginning</li>\n",
    "    <br>\n",
    "    <li>https://pandas.pydata.org/pandas-docs/stable/reference/api/pandas.DataFrame.nunique.html</li>\n",
    "    <br>\n",
    "    <li>https://www.analyticsvidhya.com/blog/2020/07/what-is-skewness-statistics/</li>\n",
    "    <br>\n",
    "    <li>https://pythontic.com/pandas/dataframe-computations/skew#:~:text=skewness()%20function%20in%20pandas,present%20in%20the%20DataFrame%20object.</li>\n",
    "    <br>\n",
    "    <li>https://medium.com/@ODSC/transforming-skewed-data-for-machine-learning-90e6cc364b0</li>\n",
    "    <br>\n",
    "    <li> https://stackoverflow.com/questions/56310788/different-outcome-using-pandas-nunique-and-unique</li>\n",
    "    <br>\n",
    "    <li> https://stackoverflow.com/questions/38088652/pandas-convert-categories-to-numbers</li>\n",
    "    <br>\n",
    "    <li> https://scikit-learn.org/stable/modules/generated/sklearn.preprocessing.LabelEncoder.html</li>\n",
    "    <br>\n",
    "    <li>https://stackoverflow.com/questions/44353516/get-keys-of-pandas-series-value-counts</li>\n",
    "    <br>\n",
    "    <li>https://www.w3resource.com/pandas/series/series-value_counts.php#:~:text=Series%20containing%20counts%20of%20unique,the%20most%20frequently-occurring%20element.</li>\n",
    "    <br>\n",
    "    <li>https://www.datacamp.com/community/tutorials/categorical-data</li>\n",
    "    <br>\n",
    "    <li>https://www.kaggle.com/ekami66/detailed-exploratory-data-analysis-with-python</li>\n",
    "    <br>\n",
    "    <li>https://stackoverflow.com/questions/26924904/check-if-dataframe-column-is-categorical</li>\n",
    "    <br>\n",
    "    <li>https://pynative.com/python-random-choice/</li>\n",
    "    <br>\n",
    "    <li>https://chrisalbon.com/python/data_wrangling/pandas_list_unique_values_in_column/</li>\n",
    "    <br>\n",
    "    <li>https://pandas.pydata.org/pandas-docs/stable/reference/api/pandas.DataFrame.fillna.html</li>\n",
    "    <br>\n",
    "    <li>https://stackoverflow.com/questions/20845213/how-to-avoid-python-pandas-creating-an-index-in-a-saved-csv</li>\n",
    "    <br>\n",
    "    <li>https://scikit-learn.org/stable/modules/neighbors.html#kd-tree</li>\n",
    "</ol>\n",
    "</h6>"
   ]
  },
  {
   "cell_type": "code",
   "execution_count": null,
   "metadata": {},
   "outputs": [],
   "source": []
  },
  {
   "cell_type": "code",
   "execution_count": null,
   "metadata": {},
   "outputs": [],
   "source": []
  }
 ],
 "metadata": {
  "kernelspec": {
   "display_name": "Python 3",
   "language": "python",
   "name": "python3"
  },
  "language_info": {
   "codemirror_mode": {
    "name": "ipython",
    "version": 3
   },
   "file_extension": ".py",
   "mimetype": "text/x-python",
   "name": "python",
   "nbconvert_exporter": "python",
   "pygments_lexer": "ipython3",
   "version": "3.7.7"
  }
 },
 "nbformat": 4,
 "nbformat_minor": 4
}
