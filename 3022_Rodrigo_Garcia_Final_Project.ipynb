{
 "cells": [
  {
   "cell_type": "markdown",
   "metadata": {},
   "source": [
    "<H2>Microsoft Malware Prediction</H2>\n",
    "<H3>Final Project:  Rodrigo H. Garcia, August 3rd 2020</H3>"
   ]
  },
  {
   "cell_type": "code",
   "execution_count": null,
   "metadata": {
    "jupyter": {
     "source_hidden": true
    }
   },
   "outputs": [],
   "source": []
  },
  {
   "cell_type": "markdown",
   "metadata": {},
   "source": [
    "<h4>I.) Definitions of Column Fields</h4>"
   ]
  },
  {
   "cell_type": "markdown",
   "metadata": {},
   "source": [
    "<hr>"
   ]
  },
  {
   "cell_type": "markdown",
   "metadata": {},
   "source": [
    "<p><b>MachineIdentifier</b> - Individual machine ID</p>\n",
    "<p><b>ProductName</b> - Defender state information e.g. win8defender</p>\n",
    "<p><b>EngineVersion</b> - Defender state information e.g. 1.1.12603.0</p>\n",
    "<p><b>AppVersion</b>- Defender state information e.g. 4.9.10586.0</p>\n",
    "<p><b>AvSigVersion</b> - Defender state information e.g. 1.217.1014.0</p>\n",
    "<p><b>IsBeta</b> - Defender state information e.g. false</p>\n",
    "<p><b>RtpStateBitfield</b> - NA</p>\n",
    "<p><b>IsSxsPassiveMode</b> - NA</p>\n",
    "<p><b>DefaultBrowsersIdentifier</b> - ID for the machine's default browser</p>\n",
    "<p><b>VProductStatesIdentifier</b> - ID for the specific configuration of a user's antivirus software</p>\n",
    "<p><b>AVProductsInstalled</b> - NA (Are Anti-Virus products installed?)</p>\n",
    "<p><b>AVProductsEnabled</b> - NA (Are Anit Viruse Products enabled?)</p>\n",
    "\n",
    "<p><b>HasTpm</b> - True if machine has tpm (Trusted Platform Module is a special security standard which describes a hardware chip embedded in your PC's motherboard. When a Trusted Platform Module is present in a device, it allows to secure cryptographic operations like generation of cryptographic keys or secure device authentication.)</p>\n",
    "\n",
    "\n",
    "<p><b>CountryIdentifier</b> - ID for the country the machine is located in</p>\n",
    "<p><b>cityIdentifier</b> - ID for the city the machine is located in<p>\n",
    "<p><b>OrganizationIdentifier</b> - ID for the organization the machine belongs in, organization ID is mapped to both specific companies and broad industries</p>\n",
    "<p><b>GeoNameIdentifier</b> - ID for the geographic region a machine is located in</p>\n",
    "<p><b>LocaleEnglishNameIdentifier</b> - English name of Locale ID of the current user</p>\n",
    "<p><b>Platform</b> - Calculates platform name (of OS related properties and processor property)</p>\n",
    "<p><b>Processor</b> - This is the process architecture of the installed operating system\n",
    "<p><b>OsVer</b> - Version of the current operating system\n",
    "<p><b>OsBuild</b> - Build of the current operating system\n",
    "<p><b>OsSuite</b> - Product suite mask for the current operating system.\n",
    "<p><b>OsPlatformSubRelease</b> - Returns the OS Platform sub-release (Windows Vista, Windows 7, Windows 8, TH1, TH2)\n",
    "<p><b>OsBuildLab</b> - Build lab that generated the current OS. Example: 9600.17630.amd64fre.winblue_r7.150109-2022\n",
    "\n",
    "<p><b>SkuEdition</b>- The goal of this feature is to use the Product Type defined in the MSDN to map to a 'SKU-Edition' name that is useful in population reporting. The valid Product Type are defined in %sdxroot%\\data\\windowseditions.xml. This API has been used since Vista and Server 2008, so there are many Product Types that do not apply to Windows 10. The 'SKU-Edition' is a string value that is in one of three classes of results. The design must hand each class.\n",
    "IsProtected - This is a calculated field derived from the Spynet Report's AV Products field. Returns: a. TRUE if there is at least one active and up-to-date antivirus product running on this machine. b. FALSE if there is no active AV product on this machine, or if the AV is active, but is not receiving the latest updates. c. null if there are no Anti Virus Products in the report. Returns: Whether a machine is protected.</p>\n",
    "\n",
    "<p><b>AutoSampleOptIn</b> - This is the SubmitSamplesConsent value passed in from the service, available on CAMP 9+</p>\n",
    "<p><b>PuaMode</b> - Pua Enabled mode from the service</p>\n",
    "\n",
    "<p><b>SMode</b>- This field is set to true when the device is known to be in 'S Mode', as in, Windows 10 S mode, where only Microsoft Store apps can be installed</p>\n",
    "\n",
    "<p><b>IeVerIdentifier</b> - NA</p>\n",
    "\n",
    "<p><b>SmartScreen</b> - This is the SmartScreen enabled string value from registry. This is obtained by checking in order, HKLM\\SOFTWARE\\Policies\\Microsoft\\Windows\\System\\SmartScreenEnabled and HKLM\\SOFTWARE\\Microsoft\\Windows\\CurrentVersion\\Explorer\\SmartScreenEnabled. If the value exists but is blank, the value \"ExistsNotSet\" is sent in telemetry.</p>\n",
    "\n",
    "<p><b>Firewall</b> - This attribute is true (1) for Windows 8.1 and above if windows firewall is enabled, as reported by the service.</p>\n",
    "\n",
    "<p><b>UacLuaenable</b> - This attribute reports whether or not the \"administrator in Admin Approval Mode\" user type is disabled or enabled in UAC. The value reported is obtained by reading the regkey HKLM\\SOFTWARE\\Microsoft\\Windows\\CurrentVersion\\Policies\\System\\EnableLUA.</p>\n",
    "\n",
    "<p><b>Census_MDC2FormFactor</b> - A grouping based on a combination of Device Census level hardware characteristics. The logic used to define Form Factor is rooted in business and industry standards and aligns with how people think about their device. (Examples: Smartphone, Small Tablet, All in One, Convertible...)</p>\n",
    "\n",
    "<p><b>Census_DeviceFamily</b> - AKA DeviceClass. Indicates the type of device that an edition of the OS is intended for. Example values: Windows.Desktop, Windows.Mobile, and iOS.Phone</p>\n",
    "\n",
    "<p><b>Census_OEMNameIdentifier</b> - NA</p>\n",
    "<p><b>Census_OEMModelIdentifier</b> - NA</p>\n",
    "<p><b>Census_ProcessorCoreCount</b> - Number of logical cores in the processor</p>\n",
    "<p><b>Census_ProcessorManufacturerIdentifier</b> - NA</p>\n",
    "<p><b>Census_ProcessorModelIdentifier</b> - NA</p>\n",
    "<p><b>Census_ProcessorClass</b> - A classification of processors into high/medium/low. Initially used for Pricing Level SKU. No longer maintained and updated</p>\n",
    "<p><b>Census_PrimaryDiskTotalCapacity</b> - Amount of disk space on primary disk of the machine in MB</p>\n",
    "<p><b>Census_PrimaryDiskTypeName</b> - Friendly name of Primary Disk Type - HDD or SSD</p>\n",
    "<p><b>Census_SystemVolumeTotalCapacity</b> - The size of the partition that the System volume is installed on in MB</p>\n",
    "<p><b>Census_HasOpticalDiskDrive</b> - True indicates that the machine has an optical disk drive (CD/DVD)</p>\n",
    "<p><b>Census_TotalPhysicalRAM</b> - Retrieves the physical RAM in MB</p>\n",
    "<p><b>Census_ChassisTypeName</b> - Retrieves a numeric representation of what type of chassis the machine has. A value of 0 means xx</p>\n",
    "<p><b>Census_InternalPrimaryDiagonalDisplaySizeInInches</b> - Retrieves the physical diagonal length in inches of the primary display</p>\n",
    "<p><b>Census_InternalPrimaryDisplayResolutionHorizontal</b> - Retrieves the number of pixels in the horizontal direction of the internal display.</p>\n",
    "<p><b>Census_InternalPrimaryDisplayResolutionVertical</b> - Retrieves the number of pixels in the vertical direction of the internal display</p>\n",
    "<p><b>Census_PowerPlatformRoleName</b> - Indicates the OEM preferred power management profile. This value helps identify the basic form factor of the device</p>\n",
    "<p><b>Census_InternalBatteryType</b> - NA</p>\n",
    "<p><b>Census_InternalBatteryNumberOfCharges</b> - NA</p>\n",
    "<p><b>Census_OSVersion</b> - Numeric OS version Example - 10.0.10130.0</p>\n",
    "<p><b>Census_OSArchitecture</b> - Architecture on which the OS is based. Derived from OSVersionFull. Example - amd64</p>\n",
    "\n",
    "<p><b>Census_OSBranch</b> - Branch of the OS extracted from the OsVersionFull. Example - OsBranch = fbl_partner_eeap where OsVersion = 6.4.9813.0.amd64fre.fbl_partner_eeap.140810-0005</p>\n",
    "\n",
    "<p><b>Census_OSBuildNumber</b> - OS Build number extracted from the OsVersionFull. Example - OsBuildNumber = 10512 or 10240</p>\n",
    "<p><b>Census_OSBuildRevision</b> - OS Build revision extracted from the OsVersionFull. Example - OsBuildRevision = 1000 or 16458</p>\n",
    "\n",
    "<p><b>Census_OSEdition</b> - Edition of the current OS. Sourced from HKLM\\Software\\Microsoft\\Windows NT\\CurrentVersion@EditionID in registry. Example: Enterprise</p>\n",
    "\n",
    "<p><b>Census_OSSkuName</b> - OS edition friendly name (currently Windows only)</p>\n",
    "<p><b>Census_OSInstallTypeName</b> - Friendly description of what install was used on the machine i.e. clean</p>\n",
    "<p><b>Census_OSInstallLanguageIdentifier</b> - NA</p>\n",
    "<p><b>Census_OSUILocaleIdentifier</b> - NA</p>\n",
    "<p><b>Census_OSWUAutoUpdateOptionsName</b> - Friendly name of the WindowsUpdate auto-update settings on the machine.</p>\n",
    "<p><b>Census_IsPortableOperatingSystem</b> - Indicates whether OS is booted up and running via Windows-To-Go on a USB stick.</p>\n",
    "<p><b>Census_GenuineStateName</b> - Friendly name of OSGenuineStateID. 0 = Genuine</p>\n",
    "<p><b>Census_ActivationChannel</b> - Retail license key or Volume license key for a machine.</p>\n",
    "<p><b>Census_IsFlightingInternal</b> - NA</p>\n",
    "<p><b>Census_IsFlightsDisabled</b> - Indicates if the machine is participating in flighting.</p>\n",
    "\n",
    "<p><b>Census_FlightRing</b> - The ring that the device user would like to receive flights for. This might be different from the ring of the OS which is currently installed if the user changes the ring after getting a flight from a different ring.</p>\n",
    "\n",
    "<p><b>Census_ThresholdOptIn</b> - NA</p>\n",
    "<p><b>Census_FirmwareManufacturerIdentifier</b> - NA</p>\n",
    "<p><b>Census_FirmwareVersionIdentifier</b> - NA</p>\n",
    "<p><b>Census_IsSecureBootEnabled</b> - Indicates if Secure Boot mode is enabled.</p>\n",
    "<p><b>Census_IsWIMBootEnabled</b> - NA</p>\n",
    "<p><b>Census_IsVirtualDevice</b> - Identifies a Virtual Machine (machine learning model)</p>\n",
    "<p><b>Census_IsTouchEnabled</b> - Is this a touch device ?</p>\n",
    "<p><b>Census_IsPenCapable</b> - Is the device capable of pen input ? </p>\n",
    "<p><b>Census_IsAlwaysOnAlwaysConnectedCapable</b> - Retreives information about whether the battery enables the device to be AlwaysOnAlwaysConnected .</p>\n",
    "<p><b>Wdft_IsGamer</b> - Indicates whether the device is a gamer device or not based on its hardware combination.</p>\n",
    "<p><b>Wdft_RegionIdentifier</b> - NA</p>"
   ]
  },
  {
   "cell_type": "markdown",
   "metadata": {},
   "source": [
    "<hr>"
   ]
  },
  {
   "cell_type": "code",
   "execution_count": null,
   "metadata": {
    "jupyter": {
     "source_hidden": true
    }
   },
   "outputs": [],
   "source": []
  },
  {
   "cell_type": "markdown",
   "metadata": {},
   "source": [
    "<h4>II.) Data Overview and Description</h4>"
   ]
  },
  {
   "cell_type": "markdown",
   "metadata": {},
   "source": [
    "<hr>"
   ]
  },
  {
   "cell_type": "markdown",
   "metadata": {},
   "source": [
    "<p>The data presented for this project is part of the 2019  Microsoft Malware Prediction challenge.  The purpose of the 2019 challenge (and this data) was (and continues to be) the development of new predictive techniques and tools to determine if a machine (computer) will be hit with malware</p>\n",
    "\n",
    "<p>The supplied data from the kaggle challenge contains 3 file.\n",
    "    <ul>\n",
    "        <li>sample_submission.csv</li>\n",
    "        <li>test.csv</li>\n",
    "        <li>train.csv</li>\n",
    "    </ul>\n",
    "</p>\n",
    "\n",
    "<p>The train.csv file contains the training data which will be used to train the malware prediction model, while the test.csv contains another set of data to  test the accuracy of the training model generated with the training data.  The train.csv file contains 83 columns of data  such as \"Machine Identifier\" all the way to wdft_IsGamer (whether a device is a gaming device).  The large crossection of data will be useful in developing the predicition model for this project</p>"
   ]
  },
  {
   "cell_type": "code",
   "execution_count": null,
   "metadata": {
    "jupyter": {
     "source_hidden": true
    }
   },
   "outputs": [],
   "source": []
  },
  {
   "cell_type": "markdown",
   "metadata": {},
   "source": [
    "<h4>III.) Data Cleaning and Initial Visualization</h4>"
   ]
  },
  {
   "cell_type": "code",
   "execution_count": null,
   "metadata": {},
   "outputs": [],
   "source": []
  }
 ],
 "metadata": {
  "kernelspec": {
   "display_name": "Python 3",
   "language": "python",
   "name": "python3"
  },
  "language_info": {
   "codemirror_mode": {
    "name": "ipython",
    "version": 3
   },
   "file_extension": ".py",
   "mimetype": "text/x-python",
   "name": "python",
   "nbconvert_exporter": "python",
   "pygments_lexer": "ipython3",
   "version": "3.7.6"
  }
 },
 "nbformat": 4,
 "nbformat_minor": 4
}
